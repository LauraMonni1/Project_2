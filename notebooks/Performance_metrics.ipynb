{
 "cells": [
  {
   "cell_type": "markdown",
   "id": "1d11b918-96e6-466c-a2e0-e8eb1c821ea7",
   "metadata": {},
   "source": [
    "## Performance Metrics"
   ]
  },
  {
   "cell_type": "markdown",
   "id": "1f9adb18-6ec1-4c95-a249-e4d3015c197c",
   "metadata": {},
   "source": [
    "Key performance indicators (KPIs):\n",
    "\n",
    "- **Completion Rate**: The proportion of users who reach the final ‘confirm’ step.\n",
    "\n",
    "  - According to this dataset, the completion rate is 67.5%.\n",
    "    \n",
    "\n",
    "- **Time Spent on Each Step**: The average duration users spend on each step.\n",
    "\n",
    "- **Error Rates**: If there’s a step where users go back to a previous step, it may indicate confusion or an error. You should consider moving from a later step to an earlier one as an error."
   ]
  },
  {
   "cell_type": "markdown",
   "id": "0e2d4fe4-bef3-4a0b-96a5-6cc09acc9e9b",
   "metadata": {},
   "source": [
    "### Code : performance metrics exploration"
   ]
  },
  {
   "cell_type": "code",
   "execution_count": 37,
   "id": "d084981c-b91f-4303-a2d5-6c11be44643d",
   "metadata": {},
   "outputs": [],
   "source": [
    "import pandas as pd\n",
    "import matplotlib.pyplot as plt\n",
    "import seaborn as sns\n",
    "import numpy as np\n",
    "from scipy.stats import chi2_contingency\n",
    "from scipy.stats.contingency import association\n",
    "import functions as fun\n",
    "\n",
    "%matplotlib inline"
   ]
  },
  {
   "cell_type": "code",
   "execution_count": 59,
   "id": "9f307048-6b61-47ce-8e31-cca99021c6d5",
   "metadata": {},
   "outputs": [],
   "source": [
    "df_demo = pd.read_csv(\"../data/df_demo.csv\")\n",
    "df_exp = pd.read_csv(\"../data/df_experiment_tot.csv\")\n",
    "df_final = pd.read_csv(\"../data/df_final.csv\")"
   ]
  },
  {
   "cell_type": "code",
   "execution_count": 60,
   "id": "33fe025e-2066-4530-a7c0-8c868dfa824d",
   "metadata": {},
   "outputs": [],
   "source": [
    "merge_df = pd.merge(df_demo, df_exp, on = \"client_id\")"
   ]
  },
  {
   "cell_type": "code",
   "execution_count": 82,
   "id": "8d10276d-8104-4259-be11-cd437b71ce58",
   "metadata": {},
   "outputs": [],
   "source": [
    "def completion_rate(df):\n",
    "\n",
    "    \"\"\"\n",
    "    Function to calculate the completion rate of clients visiting the website.\n",
    "    It returns the average completion rate for the specified dataframe \n",
    "    and a pandas series with completion rates for each client.\n",
    "    \n",
    "    Parameters:\n",
    "    df (DataFrame): the dataframe containing the columns needed\n",
    "      The dataframe columns that the function refers to are: \"process_step\" and \"client_id\"\n",
    "\n",
    "    \"\"\"\n",
    "    \n",
    "    confirm_count =df[df[\"process_step\"] == \"confirm\"].groupby(\"client_id\").size()   \n",
    "    total_users = df.groupby(\"client_id\").size()\n",
    "    completion_rate = (confirm_count / total_users * 100).round(1).dropna()\n",
    "    average_completion_rate = completion_rate.mean().round(2)\n",
    "\n",
    "\n",
    "    return average_completion_rate, completion_rate"
   ]
  },
  {
   "cell_type": "code",
   "execution_count": 84,
   "id": "99e38678-8602-4627-91fc-929313259514",
   "metadata": {},
   "outputs": [
    {
     "data": {
      "text/plain": [
       "client_id\n",
       "169        20.0\n",
       "546        20.0\n",
       "555        20.0\n",
       "647        20.0\n",
       "722        11.1\n",
       "           ... \n",
       "9999451    20.0\n",
       "9999729     9.1\n",
       "9999768     8.3\n",
       "9999839    16.7\n",
       "9999875    16.7\n",
       "Length: 81145, dtype: float64"
      ]
     },
     "execution_count": 84,
     "metadata": {},
     "output_type": "execute_result"
    }
   ],
   "source": [
    "_, completion_rate_exp = completion_rate(df_exp)\n",
    "completion_rate_exp"
   ]
  },
  {
   "cell_type": "markdown",
   "id": "258a4e81-3607-4505-9779-7f0144ce39ca",
   "metadata": {},
   "source": [
    "**Average duration users spend on each step**"
   ]
  },
  {
   "cell_type": "code",
   "execution_count": null,
   "id": "31bdfbbf-4099-4a0d-b2c1-bf4e69c35fdb",
   "metadata": {},
   "outputs": [],
   "source": [
    "# First function defined for time spent in each step\n",
    "def time_steps_1(df):\n",
    "\n",
    "    df[\"date_time\"] = pd.to_datetime(df[\"date_time\"])\n",
    "    df[\"hour\"] = df[\"date_time\"].dt.hour\n",
    "    df[\"minutes\"] = df[\"date_time\"].dt.minute\n",
    "    df[\"seconds\"] = df[\"date_time\"].dt.second\n",
    "    \n",
    "    start_step1 = df[ df[\"process_step\"].isin([\"start\",\"step_1\"])]\n",
    "    step1_step2 = df[ df[\"process_step\"].isin([\"step_1\",\"step_2\"])]\n",
    "    step2_step3 = df[ df[\"process_step\"].isin([\"step_2\",\"step_3\"])]\n",
    "    step3_confirm = df[ df[\"process_step\"].isin([\"step_3\",\"confirm\"])]\n",
    "    \n",
    "    \n",
    "    #Time difference between Start and step1\n",
    "    \n",
    "    start_step1 = start_step1.sort_values(by = [\"client_id\", \"date_time\"])\n",
    "    \n",
    "    hours_spent_1 = (start_step1.groupby([\"client_id\",\"process_step\"])[\"hour\"].diff().mean())*3600 # converting the hours to seconds\n",
    "    minutes_spent_1 = (start_step1.groupby([\"client_id\",\"process_step\"])[\"minutes\"].diff().mean())*60 # converting the minutes to seconds\n",
    "    seconds_spent_1 = start_step1.groupby([\"client_id\",\"process_step\"])[\"seconds\"].diff().mean()\n",
    "\n",
    "     #Time difference between Step1 and step2\n",
    "    \n",
    "    step1_step2 = step1_step2.sort_values(by = [\"client_id\", \"date_time\"])\n",
    "    \n",
    "    hours_spent_2 = (step1_step2.groupby([\"client_id\",\"process_step\"])[\"hour\"].diff().mean())*3600 # converting the hours to seconds\n",
    "    minutes_spent_2 = (step1_step2.groupby([\"client_id\",\"process_step\"])[\"minutes\"].diff().mean())*60 # converting the minutes to seconds\n",
    "    seconds_spent_2 = step1_step2.groupby([\"client_id\",\"process_step\"])[\"seconds\"].diff().mean()\n",
    "\n",
    "    #Time difference between step2 and step3\n",
    "    \n",
    "    step2_step3 = step2_step3.sort_values(by = [\"client_id\", \"date_time\"])\n",
    "                       \n",
    "    hours_spent_3 = (step2_step3.groupby([\"client_id\",\"process_step\"])[\"hour\"].diff().mean())*3600 # converting the hours to seconds\n",
    "    minutes_spent_3 = (step2_step3.groupby([\"client_id\",\"process_step\"])[\"minutes\"].diff().mean())*60 # converting the minutes to seconds\n",
    "    seconds_spent_3 = step2_step3.groupby([\"client_id\",\"process_step\"])[\"seconds\"].diff().mean()\n",
    "    \n",
    "    #Time difference between step3 and confirm\n",
    "    \n",
    "    step3_confirm = step3_confirm.sort_values(by = [\"client_id\", \"date_time\"])\n",
    "    \n",
    "    hours_spent_4 = (step3_confirm.groupby([\"client_id\",\"process_step\"])[\"hour\"].diff().mean())*3600 # converting the hours to seconds\n",
    "    minutes_spent_4 = (step3_confirm.groupby([\"client_id\",\"process_step\"])[\"minutes\"].diff().mean())*60 # converting the minutes to seconds\n",
    "    seconds_spent_4 = step3_confirm.groupby([\"client_id\",\"process_step\"])[\"seconds\"].diff().mean()\n",
    "    \n",
    "    \n",
    "    print(f\"\"\"The average activity duration of clients is:\n",
    "    Between Start and Step_1: {hours_spent_1 + minutes_spent_1 + seconds_spent_1: .2f} seconds\n",
    "    Between Step_1 and Step2: {hours_spent_2 + minutes_spent_2 + seconds_spent_2: .2f} seconds\n",
    "    Between Step_2 and Step3: {hours_spent_3 + minutes_spent_3 + seconds_spent_3: .2f} seconds\n",
    "    Between Step_3 and Confirm: {hours_spent_4 + minutes_spent_4 + seconds_spent_4: .2f} seconds\"\"\")\n",
    "    \n",
    "    return "
   ]
  },
  {
   "cell_type": "code",
   "execution_count": 6,
   "id": "78aeb1d6",
   "metadata": {},
   "outputs": [],
   "source": [
    "def tukeys_test_outliers(data):\n",
    "    Q1 = data.quantile(0.25)\n",
    "    Q3 = data.quantile(0.75)\n",
    "    IQR = Q3 - Q1\n",
    "    \n",
    "\n",
    "    lower_q = Q1 - 1.5 * IQR\n",
    "    upper_q = Q3 + 1.5 * IQR\n",
    "    \n",
    "\n",
    "    outliers = data[(data < lower_q) | (data > upper_q)] \n",
    "    \n",
    "    return outliers"
   ]
  },
  {
   "cell_type": "code",
   "execution_count": 78,
   "id": "10bffa15",
   "metadata": {},
   "outputs": [],
   "source": [
    "# Improved function for time spent in each step (with the function dt.total_seconds()) \n",
    "# and added a dictionary (then transformed to a dataframe) containing the average time in the steps for each client that completed the process\n",
    "# for this I used zip() to iterate over both the dataframes step_df and the names of the steps (step_names list)\n",
    "\n",
    "def time_steps(df):\n",
    "\n",
    "    \"\"\"\n",
    "    The function calculates the time spent by clients in the different steps of the process.\n",
    "    It prints out the results for each step.\n",
    "    The function handles duplicates (two or more consecutive times the client was in the same step) and it drops outliers.\n",
    "    \n",
    "    Parameter:\n",
    "    df (dataframe)\n",
    "      The dataframe columns that the function refers to are: \"date_time\", \"process_step\", \"client_id\"\n",
    "    \"\"\"\n",
    "\n",
    "    df[\"date_time\"] = pd.to_datetime(df[\"date_time\"])\n",
    "    df_sort_date = df.sort_values(by = [\"client_id\", \"visit_id\", \"date_time\"]).copy()\n",
    "    \n",
    "    start_step1 = df_sort_date[ df_sort_date[\"process_step\"].isin([\"start\",\"step_1\"])]\n",
    "    step1_step2 = df_sort_date[ df_sort_date[\"process_step\"].isin([\"step_1\",\"step_2\"])]\n",
    "    step2_step3 = df_sort_date[ df_sort_date[\"process_step\"].isin([\"step_2\",\"step_3\"])]\n",
    "    step3_confirm = df_sort_date[ df_sort_date[\"process_step\"].isin([\"step_3\",\"confirm\"])]\n",
    "\n",
    "    step_names = [\"Start-Step1\", \"Step1-Step2\", \"Step2-Step3\", \"Step3-Confirm\"]\n",
    "    \n",
    "    time_spent_avg = []\n",
    "    time_spent_client = {}\n",
    "\n",
    "    for step_df, step_name in zip([start_step1, step1_step2, step2_step3, step3_confirm], step_names):\n",
    "\n",
    "        consecutive_duplicates = step_df.duplicated(subset=[\"client_id\", \"process_step\"], keep = \"last\")\n",
    "        step_df = step_df[~consecutive_duplicates]\n",
    "\n",
    "        time_diff = step_df.groupby(\"client_id\")[\"date_time\"].diff().dt.total_seconds()\n",
    "        time_diff = time_diff.dropna()\n",
    "        \n",
    "        outliers = tukeys_test_outliers(time_diff)\n",
    "\n",
    "        time_diff_no_outliers = time_diff.iloc[~time_diff.index.isin(outliers.index)]\n",
    "        average_time = time_diff_no_outliers.mean()\n",
    "        time_spent_avg.append(average_time)\n",
    "\n",
    "        time_spent_client[step_name] = time_diff_no_outliers.groupby(step_df[\"client_id\"]).mean()\n",
    "        \n",
    "\n",
    "    df_time_client = pd.DataFrame(time_spent_client)\n",
    "    df_time_client.dropna(inplace=True)\n",
    "\n",
    "    tot_time = np.mean(time_spent_avg)\n",
    "\n",
    "    print(f\"\"\"The average activity duration of clients for each step is:\n",
    "    Between Start and Step_1: {time_spent_avg[0]: .2f} seconds\n",
    "    Between Step_1 and Step_2: {time_spent_avg[1]: .2f} seconds\n",
    "    Between Step_2 and Step_3: {time_spent_avg[2]: .2f} seconds\n",
    "    Between Step_3 and Confirm: {time_spent_avg[3]: .2f} seconds\n",
    "    \n",
    "    The total average duration to complete the process is: {tot_time: .2f} seconds\"\"\")\n",
    "    \n",
    "    return time_spent_avg, tot_time, df_time_client"
   ]
  },
  {
   "cell_type": "code",
   "execution_count": 87,
   "id": "690e98a7",
   "metadata": {},
   "outputs": [
    {
     "name": "stdout",
     "output_type": "stream",
     "text": [
      "The average activity duration of clients is:\n",
      "    Between Start and Step_1:  21.41 seconds\n",
      "    Between Step_1 and Step_2:  35.42 seconds\n",
      "    Between Step_2 and Step_3:  85.15 seconds\n",
      "    Between Step_3 and Confirm:  84.57 seconds\n"
     ]
    }
   ],
   "source": [
    "time_steps(df_exp)"
   ]
  },
  {
   "cell_type": "markdown",
   "id": "cd760591",
   "metadata": {},
   "source": [
    "**Error rates**"
   ]
  },
  {
   "cell_type": "code",
   "execution_count": null,
   "id": "5b58ce81",
   "metadata": {},
   "outputs": [],
   "source": [
    "steps = df_exp.sort_values(by = [\"client_id\", \"date_time\"])\n",
    "group = steps.groupby([\"client_id\", \"process_step\"], sort=False)"
   ]
  },
  {
   "cell_type": "code",
   "execution_count": null,
   "id": "59e2514e",
   "metadata": {},
   "outputs": [],
   "source": [
    "steps[\"prev_step\"] = steps.groupby(\"client_id\")[\"process_step\"].shift()"
   ]
  },
  {
   "cell_type": "code",
   "execution_count": null,
   "id": "3fd9e16e",
   "metadata": {},
   "outputs": [],
   "source": [
    "steps.head()"
   ]
  },
  {
   "cell_type": "code",
   "execution_count": null,
   "id": "cfb19ede",
   "metadata": {},
   "outputs": [],
   "source": [
    "# First function to calculate error rates with loop \n",
    "\n",
    "def sequence_errors_loop(df):\n",
    "\n",
    "    df_sort_date = df.sort_values(by = [\"client_id\", \"date_time\"])\n",
    "    df_sort_date[\"prev_step\"] = df_sort_date.groupby(\"client_id\")[\"process_step\"].shift()\n",
    "    \n",
    "    #df_sort_date[\"prev_step\"] = df_sort_date[\"prev_step\"].replace([\"NaN\", \"nan\"], np.nan)\n",
    "    \n",
    "    list_steps = [\"start\", \"step_1\", \"step_2\", \"step_3\", \"confirm\"]\n",
    "    errors_count = 0\n",
    "    total_steps = 0\n",
    "    \n",
    "    for client_id, row in df_sort_date.iterrows():\n",
    "        current_step = row[\"process_step\"]\n",
    "        previous_step = row[\"prev_step\"]\n",
    "                    \n",
    "        if pd.isna(previous_step):\n",
    "            continue\n",
    "        else:\n",
    "        \n",
    "            if previous_step is None and current_step != list_steps[0]:\n",
    "                errors_count += 1\n",
    "                \n",
    "                \n",
    "            elif previous_step is not None and previous_step != list_steps[4] and current_step != list_steps[list_steps.index(previous_step) + 1]:\n",
    "                errors_count += 1\n",
    "            \n",
    "            total_steps += 1\n",
    "\n",
    "            \n",
    "    \n",
    "        error_rate = (errors_count/total_steps)*100\n",
    "    \n",
    "        if errors_count <= 0:\n",
    "            print(f\"No errors in the activity of the client with id: '{client_id}'\")\n",
    "        else:\n",
    "            print(f\"The error rate for client with id '{client_id}' is: {error_rate: .2f}%\")\n",
    "        \n",
    "    return         "
   ]
  },
  {
   "cell_type": "code",
   "execution_count": 30,
   "id": "bec82196",
   "metadata": {},
   "outputs": [],
   "source": [
    "# Improved function to calculate individual errors\n",
    "\n",
    "def sequence_individual_errors(df):\n",
    "    \n",
    "    df_sort_date = df.sort_values(by = [\"client_id\", \"date_time\"])\n",
    "    list_steps = [\"start\", \"step_1\", \"step_2\", \"step_3\", \"confirm\"]\n",
    "    \n",
    "    # previous step =  df_sort_date.groupby(\"client_id\")[\"process_step\"].shift()\n",
    "    # current step = df_sort_date[\"process_step\"]\n",
    "    # same conditions of the previous \"loop function\"\n",
    "    # +1 condition to specify the order that has to be followed (list_steps) in order not to have the error\n",
    "    # always fillna() at the end because otherwise every time there is nan due to the end of the client_id group, \n",
    "    #  this will always \"raise\" the error and I want to avoid it \n",
    "    # list_steps.index(x) + 1) % len(list_steps => x is the previous step, +1 is the next step \n",
    "    #    (so we find the index of the next step in the list_steps); %len() allows to go back to the step with index 0 (start) \n",
    "    #    when the index overcome the max lenght of the list (so over the \"confirm\" step)\n",
    "    \n",
    "    errors = ((df_sort_date.groupby(\"client_id\")[\"process_step\"].shift().fillna(\"\") == \"\") & (df_sort_date[\"process_step\"] != list_steps[0])) | \\\n",
    "          (~df_sort_date.groupby(\"client_id\")[\"process_step\"].shift().fillna(\"\").isin([None, list_steps[4], \"\"]) & \\\n",
    "           (df_sort_date[\"process_step\"] != df_sort_date.groupby(\"client_id\")[\"process_step\"].shift(-1).fillna(\"\")) & \\\n",
    "           (df_sort_date[\"process_step\"] != df_sort_date.groupby(\"client_id\")[\"process_step\"].shift().map(lambda x: list_steps[(list_steps.index(x) + 1) % len(list_steps)] \\\n",
    "                                                                                                                            if not pd.isna(x) else \"\").fillna(\"\")))\n",
    "    \n",
    "    df_errors = df_sort_date[errors] # errors is a boolean mask that allows to select only the rows of the sorted df where there are the errors specified in the mask \n",
    "   \n",
    "    error_rate = ((df_errors.groupby(\"client_id\").size() / df_sort_date.groupby(\"client_id\").size())*100).fillna(0)\n",
    "    \n",
    "    for client, error in error_rate.items():\n",
    "        \n",
    "        if error <= 0:\n",
    "            print(f\"No errors in the activity of the client with id: '{client}'\")\n",
    "        else:\n",
    "            print(f\"The error rate for client with id '{client}' is: {error: .2f}%\")"
   ]
  },
  {
   "cell_type": "code",
   "execution_count": null,
   "id": "867d91d4",
   "metadata": {},
   "outputs": [],
   "source": [
    "df_reduced = df_exp.sort_values(by = [\"client_id\", \"date_time\"])[:500]"
   ]
  },
  {
   "cell_type": "code",
   "execution_count": null,
   "id": "fec5b765",
   "metadata": {},
   "outputs": [],
   "source": [
    "df_sorted = df_exp.sort_values(by = [\"client_id\", \"date_time\"])"
   ]
  },
  {
   "cell_type": "code",
   "execution_count": 31,
   "id": "02b3f6f5",
   "metadata": {},
   "outputs": [],
   "source": [
    "# Same function but to calculate overall error rate\n",
    "\n",
    "def sequence_total_errors(df):\n",
    "    \n",
    "    df_sort_date = df.sort_values(by = [\"client_id\", \"date_time\"])\n",
    "    list_steps = [\"start\", \"step_1\", \"step_2\", \"step_3\", \"confirm\"]\n",
    "    \n",
    "    errors = ((df_sort_date.groupby(\"client_id\")[\"process_step\"].shift().fillna(\"\") == \"\") & (df_sort_date[\"process_step\"] != list_steps[0])) | \\\n",
    "          (~df_sort_date.groupby(\"client_id\")[\"process_step\"].shift().fillna(\"\").isin([None, list_steps[4], \"\"]) & \\\n",
    "           (df_sort_date[\"process_step\"] != df_sort_date.groupby(\"client_id\")[\"process_step\"].shift(-1).fillna(\"\")) & \\\n",
    "           (df_sort_date[\"process_step\"] != df_sort_date.groupby(\"client_id\")[\"process_step\"].shift().map(lambda x: list_steps[(list_steps.index(x) + 1) % len(list_steps)] \\\n",
    "                                                                                                                            if not pd.isna(x) else \"\").fillna(\"\")))\n",
    "    df_errors = df_sort_date[errors] # errors is a boolean mask that allows to select only the rows of the sorted df where there are the errors specified in the mask \n",
    "   \n",
    "    error_rate = ((df_errors.groupby(\"client_id\").size() / df_sort_date.groupby(\"client_id\").size())*100).fillna(0)\n",
    "    \n",
    "    # general error rate\n",
    "    \n",
    "    error_rate_total = (len(df_errors) / len(df_sort_date)) * 100\n",
    "\n",
    "    if error_rate_total <= 0:\n",
    "        print(\"No errors found in the entire dataset.\")\n",
    "    else:\n",
    "        print(f\"The overall error rate for the dataset is: {error_rate_total: .2f}%\")"
   ]
  },
  {
   "cell_type": "markdown",
   "id": "ce624568",
   "metadata": {},
   "source": [
    "## **Redesign outcome**"
   ]
  },
  {
   "cell_type": "markdown",
   "id": "434498e7",
   "metadata": {},
   "source": [
    "### Completion rate for control and test group"
   ]
  },
  {
   "cell_type": "code",
   "execution_count": 38,
   "id": "5cc015ad",
   "metadata": {},
   "outputs": [],
   "source": [
    "df_final[\"Variation\"] = df_final[\"Variation\"].map(fun.replace_nan)"
   ]
  },
  {
   "cell_type": "code",
   "execution_count": 42,
   "id": "7b4ab9cd",
   "metadata": {},
   "outputs": [],
   "source": [
    "df_final_included = df_final[ df_final[\"Variation\"].isin([\"Test\", \"Control\"])]"
   ]
  },
  {
   "cell_type": "code",
   "execution_count": 77,
   "id": "7013cc39",
   "metadata": {},
   "outputs": [
    {
     "data": {
      "text/html": [
       "<div>\n",
       "<style scoped>\n",
       "    .dataframe tbody tr th:only-of-type {\n",
       "        vertical-align: middle;\n",
       "    }\n",
       "\n",
       "    .dataframe tbody tr th {\n",
       "        vertical-align: top;\n",
       "    }\n",
       "\n",
       "    .dataframe thead th {\n",
       "        text-align: right;\n",
       "    }\n",
       "</style>\n",
       "<table border=\"1\" class=\"dataframe\">\n",
       "  <thead>\n",
       "    <tr style=\"text-align: right;\">\n",
       "      <th></th>\n",
       "      <th>client_id</th>\n",
       "    </tr>\n",
       "    <tr>\n",
       "      <th>Variation</th>\n",
       "      <th></th>\n",
       "    </tr>\n",
       "  </thead>\n",
       "  <tbody>\n",
       "    <tr>\n",
       "      <th>Control</th>\n",
       "      <td>23532</td>\n",
       "    </tr>\n",
       "    <tr>\n",
       "      <th>Test</th>\n",
       "      <td>26968</td>\n",
       "    </tr>\n",
       "  </tbody>\n",
       "</table>\n",
       "</div>"
      ],
      "text/plain": [
       "           client_id\n",
       "Variation           \n",
       "Control        23532\n",
       "Test           26968"
      ]
     },
     "execution_count": 77,
     "metadata": {},
     "output_type": "execute_result"
    }
   ],
   "source": [
    "df_final_included.groupby(\"Variation\")[[\"client_id\"]].count()"
   ]
  },
  {
   "cell_type": "code",
   "execution_count": 44,
   "id": "a04519e4",
   "metadata": {},
   "outputs": [],
   "source": [
    "df_exp_final = pd.merge(df_final_included, df_exp, on = \"client_id\", how = \"inner\") \n",
    "# inner join to have only those clients that were in either control group or test group"
   ]
  },
  {
   "cell_type": "code",
   "execution_count": 45,
   "id": "6256f2bf",
   "metadata": {},
   "outputs": [
    {
     "data": {
      "text/html": [
       "<div>\n",
       "<style scoped>\n",
       "    .dataframe tbody tr th:only-of-type {\n",
       "        vertical-align: middle;\n",
       "    }\n",
       "\n",
       "    .dataframe tbody tr th {\n",
       "        vertical-align: top;\n",
       "    }\n",
       "\n",
       "    .dataframe thead th {\n",
       "        text-align: right;\n",
       "    }\n",
       "</style>\n",
       "<table border=\"1\" class=\"dataframe\">\n",
       "  <thead>\n",
       "    <tr style=\"text-align: right;\">\n",
       "      <th></th>\n",
       "      <th>client_id</th>\n",
       "      <th>Variation</th>\n",
       "      <th>visitor_id</th>\n",
       "      <th>visit_id</th>\n",
       "      <th>process_step</th>\n",
       "      <th>date_time</th>\n",
       "    </tr>\n",
       "  </thead>\n",
       "  <tbody>\n",
       "    <tr>\n",
       "      <th>0</th>\n",
       "      <td>9988021</td>\n",
       "      <td>Test</td>\n",
       "      <td>580560515_7732621733</td>\n",
       "      <td>781255054_21935453173_531117</td>\n",
       "      <td>step_3</td>\n",
       "      <td>2017-04-17 15:27:07</td>\n",
       "    </tr>\n",
       "    <tr>\n",
       "      <th>1</th>\n",
       "      <td>9988021</td>\n",
       "      <td>Test</td>\n",
       "      <td>580560515_7732621733</td>\n",
       "      <td>781255054_21935453173_531117</td>\n",
       "      <td>step_2</td>\n",
       "      <td>2017-04-17 15:26:51</td>\n",
       "    </tr>\n",
       "    <tr>\n",
       "      <th>2</th>\n",
       "      <td>9988021</td>\n",
       "      <td>Test</td>\n",
       "      <td>580560515_7732621733</td>\n",
       "      <td>781255054_21935453173_531117</td>\n",
       "      <td>step_3</td>\n",
       "      <td>2017-04-17 15:19:22</td>\n",
       "    </tr>\n",
       "    <tr>\n",
       "      <th>3</th>\n",
       "      <td>9988021</td>\n",
       "      <td>Test</td>\n",
       "      <td>580560515_7732621733</td>\n",
       "      <td>781255054_21935453173_531117</td>\n",
       "      <td>step_2</td>\n",
       "      <td>2017-04-17 15:19:13</td>\n",
       "    </tr>\n",
       "    <tr>\n",
       "      <th>4</th>\n",
       "      <td>9988021</td>\n",
       "      <td>Test</td>\n",
       "      <td>580560515_7732621733</td>\n",
       "      <td>781255054_21935453173_531117</td>\n",
       "      <td>step_3</td>\n",
       "      <td>2017-04-17 15:18:04</td>\n",
       "    </tr>\n",
       "  </tbody>\n",
       "</table>\n",
       "</div>"
      ],
      "text/plain": [
       "   client_id Variation            visitor_id                      visit_id  \\\n",
       "0    9988021      Test  580560515_7732621733  781255054_21935453173_531117   \n",
       "1    9988021      Test  580560515_7732621733  781255054_21935453173_531117   \n",
       "2    9988021      Test  580560515_7732621733  781255054_21935453173_531117   \n",
       "3    9988021      Test  580560515_7732621733  781255054_21935453173_531117   \n",
       "4    9988021      Test  580560515_7732621733  781255054_21935453173_531117   \n",
       "\n",
       "  process_step           date_time  \n",
       "0       step_3 2017-04-17 15:27:07  \n",
       "1       step_2 2017-04-17 15:26:51  \n",
       "2       step_3 2017-04-17 15:19:22  \n",
       "3       step_2 2017-04-17 15:19:13  \n",
       "4       step_3 2017-04-17 15:18:04  "
      ]
     },
     "execution_count": 45,
     "metadata": {},
     "output_type": "execute_result"
    }
   ],
   "source": [
    "df_exp_final.head()"
   ]
  },
  {
   "cell_type": "code",
   "execution_count": 46,
   "id": "487823ea",
   "metadata": {},
   "outputs": [],
   "source": [
    "df_test = df_exp_final[df_exp_final[\"Variation\"] == \"Test\"]\n",
    "df_control = df_exp_final[df_exp_final[\"Variation\"] == \"Control\"]"
   ]
  },
  {
   "cell_type": "code",
   "execution_count": 86,
   "id": "af63fa56",
   "metadata": {},
   "outputs": [
    {
     "name": "stdout",
     "output_type": "stream",
     "text": [
      "The completion rate for the control group is: 17.66%\n",
      "The completion rate for the test group is: 20.6%\n"
     ]
    }
   ],
   "source": [
    "average_ctrl,_ = completion_rate(df_control)\n",
    "average_test,_ = completion_rate(df_test)\n",
    "\n",
    "print(f\"\"\"The completion rate for the control group is: {average_ctrl}%\n",
    "The completion rate for the test group is: {average_test}%\"\"\")"
   ]
  },
  {
   "cell_type": "code",
   "execution_count": 73,
   "id": "34bce84f",
   "metadata": {},
   "outputs": [
    {
     "data": {
      "text/plain": [
       "(177847, 6)"
      ]
     },
     "execution_count": 73,
     "metadata": {},
     "output_type": "execute_result"
    }
   ],
   "source": [
    "df_test.shape"
   ]
  },
  {
   "cell_type": "code",
   "execution_count": 74,
   "id": "76d7b44f",
   "metadata": {},
   "outputs": [
    {
     "data": {
      "text/plain": [
       "(143462, 6)"
      ]
     },
     "execution_count": 74,
     "metadata": {},
     "output_type": "execute_result"
    }
   ],
   "source": [
    "df_control.shape"
   ]
  }
 ],
 "metadata": {
  "kernelspec": {
   "display_name": "project2_env",
   "language": "python",
   "name": "project2_env"
  },
  "language_info": {
   "codemirror_mode": {
    "name": "ipython",
    "version": 3
   },
   "file_extension": ".py",
   "mimetype": "text/x-python",
   "name": "python",
   "nbconvert_exporter": "python",
   "pygments_lexer": "ipython3",
   "version": "3.11.5"
  }
 },
 "nbformat": 4,
 "nbformat_minor": 5
}
