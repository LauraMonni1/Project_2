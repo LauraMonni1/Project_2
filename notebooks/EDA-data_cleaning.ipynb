{
 "cells": [
  {
   "cell_type": "markdown",
   "id": "ef56eadb-6a3f-4f59-acc4-89028ceb8e81",
   "metadata": {},
   "source": [
    "## EDA and data cleaning"
   ]
  },
  {
   "cell_type": "markdown",
   "id": "da0740ba-acaa-4c43-b623-6ac84857d517",
   "metadata": {},
   "source": [
    "### Insights on the databases\n",
    "\n",
    "***Demographic***:\n",
    "\n",
    "1) 4 categorical variables (gender, number of accounts, calls in the last 6 months, and logons in the last 6 months)\n",
    "2) 4 numerical variables (tenure_years, tenure_months, clients age, and balance)\n",
    "3) 1 client_id\n",
    "4) **Categorical variables info**:\n",
    "   \n",
    "   - Gender of clients quite uniformly distributed (F, M, and U = unspecified)\n",
    "   - The majority of clients have 2 or 3 accounts\n",
    "   - The majority of clients have done 6 calls in the last 6 months\n",
    "   - The majority of clients have done 9 logons in the last 6 months, but many have also done between 3 and 7 logons\n",
    "   - No correlation between gender and number of accounts\n",
    "\n",
    "6) **Numerical variables info**:\n",
    "   \n",
    "   - The majority of clients have the accounts since 1 to 15 years, with a mean of 12 years ± 6 (std).\n",
    "   - The mean age of the clients is 46 years ± 12 (std)\n",
    "   - The balance of the accoutns is very variable, with a mean of 147,445 but a very high standard deviation of 301,508"
   ]
  },
  {
   "cell_type": "markdown",
   "id": "ede44f35-e18c-4658-a6f1-26ed51512c33",
   "metadata": {},
   "source": [
    "***Clients experiment group***:\n",
    "\n",
    "1) Clients subdivided in two groups having similar sample size:\n",
    "   - Control --> 23532\n",
    "   - Test --> 26968\n",
    "\n",
    "2) Clients are identified by the unique client_id, regardless of how many accounts they have."
   ]
  },
  {
   "cell_type": "markdown",
   "id": "088e3384-8af3-490f-8cf3-d4660436074d",
   "metadata": {},
   "source": [
    "***Clients digital footprint***:\n",
    "\n",
    "1) The activity of all clients is monitored.\n",
    "2) Each client_id has different indexes relative to the activity (time and steps)\n",
    "3) The activity is monitored via \"start\", 3 steps and confirm\n",
    "4) Not all clients performed the activity uniformly, some go back and forth between steps before arriving at the confirm step"
   ]
  },
  {
   "cell_type": "markdown",
   "id": "d69fde39-6b2b-4305-b25f-bc3fffeb8301",
   "metadata": {},
   "source": [
    "## EDA"
   ]
  },
  {
   "cell_type": "markdown",
   "id": "f8f278b3-89bc-47c1-88b0-e93f64c27c95",
   "metadata": {},
   "source": [
    "1. Who are the primary clients using this online process?\n",
    "2. Are the primary clients younger or older, new or long-standing?\n",
    "3. Typical usage patterns of clients interacting with the online process? Are there specific times of day or days of the week when client's engagement is highest?"
   ]
  },
  {
   "cell_type": "markdown",
   "id": "2fa53866-c97d-416c-ab89-8a7cf821065d",
   "metadata": {},
   "source": [
    "- The analysis showed that **Middle-age** (36-55 years) people are the primary clients using the online process, followed by Seniors (56-75 years) and Adults (21-35 years).\n",
    "- All age categories of clients have the same average number of accounts (2.2).\n",
    "- Middle-age clients have done more logons compared to other categories in the last 6 months\n",
    "- Elderly, Senior and Middle-age clients have **long-standing accounts** (rounded average years since account activation: Elderly = 17, Senior = 14, Middle-age = 12)\n",
    "\n",
    "- Clients start the sessions mostly in the **morning** (9-11), followed by lunch-time (12-14) and afternoon (15-18).\n",
    "- The majority of the sessions are performed in the middle of the week, particularly on **Wednesdays**."
   ]
  },
  {
   "cell_type": "markdown",
   "id": "d3e18de2-c0e5-4f07-bbd9-91736b4c039a",
   "metadata": {},
   "source": [
    "### Code : data exploration and exploratory analysis"
   ]
  },
  {
   "cell_type": "code",
   "execution_count": 1,
   "id": "2117b1bc-3c96-4c1e-80d1-70ad9889de13",
   "metadata": {},
   "outputs": [],
   "source": [
    "import pandas as pd\n",
    "import matplotlib.pyplot as plt\n",
    "import seaborn as sns\n",
    "import numpy as np\n",
    "\n",
    "%matplotlib inline"
   ]
  },
  {
   "cell_type": "code",
   "execution_count": 2,
   "id": "4e852dc3-29b3-4a0c-a41d-9d5eb2141ff3",
   "metadata": {},
   "outputs": [],
   "source": [
    "from scipy.stats import chi2_contingency\n",
    "from scipy.stats.contingency import association"
   ]
  },
  {
   "cell_type": "markdown",
   "id": "38293ed8-1f21-484b-a329-f97fceb0c861",
   "metadata": {},
   "source": [
    "**Convert data files stored in \"data\" folder to Pandas dataframes and create copies to work on them**"
   ]
  },
  {
   "cell_type": "code",
   "execution_count": 7,
   "id": "be51d62a-842b-4918-b61a-361c29aff8c6",
   "metadata": {},
   "outputs": [],
   "source": [
    "file_demo = \"../data/df_final_demo.txt\"\n",
    "delimiter = \",\""
   ]
  },
  {
   "cell_type": "code",
   "execution_count": 8,
   "id": "114a5743-b500-47f0-ba7b-66f3002b3a52",
   "metadata": {},
   "outputs": [],
   "source": [
    "file_final = \"../data/df_final_experiment_clients.txt\"\n",
    "delimiter = \",\""
   ]
  },
  {
   "cell_type": "code",
   "execution_count": 9,
   "id": "157b7b32-079c-4239-9600-7e62d51bf89b",
   "metadata": {},
   "outputs": [],
   "source": [
    "file_exp_1 = \"../data/df_final_web_data_pt_1.txt\"\n",
    "delimiter = \",\"\n",
    "\n",
    "file_exp_2 = \"../data/df_final_web_data_pt_2.txt\"\n",
    "delimiter = \",\""
   ]
  },
  {
   "cell_type": "code",
   "execution_count": 10,
   "id": "9f55702f-59bb-466d-92b7-1a731600a8df",
   "metadata": {},
   "outputs": [],
   "source": [
    "# Dataframe of account details of clients (demographic data)\n",
    "\n",
    "df_demo_original = pd.read_csv(file_demo, delimiter=delimiter)\n",
    "df_demo = df_demo_original.copy()\n",
    "df_demo.to_csv(\"../data/df_demo.csv\", index = False)"
   ]
  },
  {
   "cell_type": "code",
   "execution_count": 11,
   "id": "0a12f6e8-bb93-4a27-928a-71999abf6104",
   "metadata": {},
   "outputs": [],
   "source": [
    "# Dataframe of final result of the clients involved in the experiment\n",
    "\n",
    "df_final_original = pd.read_csv(file_final, delimiter=delimiter)\n",
    "df_final = df_final_original.copy()\n",
    "df_final.to_csv(\"../data/df_final.csv\", index = False)"
   ]
  },
  {
   "cell_type": "code",
   "execution_count": 12,
   "id": "cc3e671e-0a41-41cc-9e77-b68d6f6385d5",
   "metadata": {},
   "outputs": [],
   "source": [
    "# Dataframe of clients digital footprints (clients online interactions) - part 1 and 2\n",
    "\n",
    "df_exp_original_1 = pd.read_csv(file_exp_1, delimiter=delimiter)\n",
    "df_exp_1 = df_exp_original_1.copy()\n",
    "df_exp_original_2 = pd.read_csv(file_exp_2, delimiter=delimiter)\n",
    "df_exp_2 = df_exp_original_2.copy()"
   ]
  },
  {
   "cell_type": "code",
   "execution_count": 13,
   "id": "edcd279f-5016-40ca-b7a6-bbf5d3a0cb29",
   "metadata": {},
   "outputs": [],
   "source": [
    "# Merging the dataframes with data on digital footprints and saving the new csv file\n",
    "\n",
    "df_exp = pd.concat([df_exp_1, df_exp_2], ignore_index = True)\n",
    "df_exp.to_csv(\"../data/df_experiment_tot.csv\", index = False)"
   ]
  },
  {
   "cell_type": "code",
   "execution_count": 14,
   "id": "dc76095b-80f5-4659-916e-44068b9977bd",
   "metadata": {},
   "outputs": [
    {
     "data": {
      "text/plain": [
       "(755405, 5)"
      ]
     },
     "execution_count": 14,
     "metadata": {},
     "output_type": "execute_result"
    }
   ],
   "source": [
    "df_exp.shape"
   ]
  },
  {
   "cell_type": "code",
   "execution_count": 15,
   "id": "d50bb104-267f-4a7a-b15d-f4b273fd65aa",
   "metadata": {},
   "outputs": [
    {
     "data": {
      "text/plain": [
       "(70609, 9)"
      ]
     },
     "execution_count": 15,
     "metadata": {},
     "output_type": "execute_result"
    }
   ],
   "source": [
    "df_demo.shape"
   ]
  },
  {
   "cell_type": "code",
   "execution_count": 16,
   "id": "cd5f95de-50c5-47e5-a74e-64dc6296fbf4",
   "metadata": {},
   "outputs": [
    {
     "data": {
      "text/plain": [
       "(70609, 2)"
      ]
     },
     "execution_count": 16,
     "metadata": {},
     "output_type": "execute_result"
    }
   ],
   "source": [
    "df_final.shape"
   ]
  },
  {
   "cell_type": "markdown",
   "id": "834e9696-d06c-4154-a719-d2e3aa8043d1",
   "metadata": {},
   "source": [
    "### Exploring **df_demo**"
   ]
  },
  {
   "cell_type": "code",
   "execution_count": 48,
   "id": "69015e5a-94ba-446b-beef-cdf635815f73",
   "metadata": {},
   "outputs": [
    {
     "data": {
      "text/html": [
       "<div>\n",
       "<style scoped>\n",
       "    .dataframe tbody tr th:only-of-type {\n",
       "        vertical-align: middle;\n",
       "    }\n",
       "\n",
       "    .dataframe tbody tr th {\n",
       "        vertical-align: top;\n",
       "    }\n",
       "\n",
       "    .dataframe thead th {\n",
       "        text-align: right;\n",
       "    }\n",
       "</style>\n",
       "<table border=\"1\" class=\"dataframe\">\n",
       "  <thead>\n",
       "    <tr style=\"text-align: right;\">\n",
       "      <th></th>\n",
       "      <th>client_id</th>\n",
       "      <th>clnt_tenure_yr</th>\n",
       "      <th>clnt_tenure_mnth</th>\n",
       "      <th>clnt_age</th>\n",
       "      <th>gendr</th>\n",
       "      <th>num_accts</th>\n",
       "      <th>bal</th>\n",
       "      <th>calls_6_mnth</th>\n",
       "      <th>logons_6_mnth</th>\n",
       "    </tr>\n",
       "  </thead>\n",
       "  <tbody>\n",
       "    <tr>\n",
       "      <th>0</th>\n",
       "      <td>836976</td>\n",
       "      <td>6.0</td>\n",
       "      <td>73.0</td>\n",
       "      <td>60.5</td>\n",
       "      <td>U</td>\n",
       "      <td>2.0</td>\n",
       "      <td>45105.30</td>\n",
       "      <td>6.0</td>\n",
       "      <td>9.0</td>\n",
       "    </tr>\n",
       "    <tr>\n",
       "      <th>1</th>\n",
       "      <td>2304905</td>\n",
       "      <td>7.0</td>\n",
       "      <td>94.0</td>\n",
       "      <td>58.0</td>\n",
       "      <td>U</td>\n",
       "      <td>2.0</td>\n",
       "      <td>110860.30</td>\n",
       "      <td>6.0</td>\n",
       "      <td>9.0</td>\n",
       "    </tr>\n",
       "    <tr>\n",
       "      <th>2</th>\n",
       "      <td>1439522</td>\n",
       "      <td>5.0</td>\n",
       "      <td>64.0</td>\n",
       "      <td>32.0</td>\n",
       "      <td>U</td>\n",
       "      <td>2.0</td>\n",
       "      <td>52467.79</td>\n",
       "      <td>6.0</td>\n",
       "      <td>9.0</td>\n",
       "    </tr>\n",
       "    <tr>\n",
       "      <th>3</th>\n",
       "      <td>1562045</td>\n",
       "      <td>16.0</td>\n",
       "      <td>198.0</td>\n",
       "      <td>49.0</td>\n",
       "      <td>M</td>\n",
       "      <td>2.0</td>\n",
       "      <td>67454.65</td>\n",
       "      <td>3.0</td>\n",
       "      <td>6.0</td>\n",
       "    </tr>\n",
       "    <tr>\n",
       "      <th>4</th>\n",
       "      <td>5126305</td>\n",
       "      <td>12.0</td>\n",
       "      <td>145.0</td>\n",
       "      <td>33.0</td>\n",
       "      <td>F</td>\n",
       "      <td>2.0</td>\n",
       "      <td>103671.75</td>\n",
       "      <td>0.0</td>\n",
       "      <td>3.0</td>\n",
       "    </tr>\n",
       "  </tbody>\n",
       "</table>\n",
       "</div>"
      ],
      "text/plain": [
       "   client_id  clnt_tenure_yr  clnt_tenure_mnth  clnt_age gendr  num_accts  \\\n",
       "0     836976             6.0              73.0      60.5     U        2.0   \n",
       "1    2304905             7.0              94.0      58.0     U        2.0   \n",
       "2    1439522             5.0              64.0      32.0     U        2.0   \n",
       "3    1562045            16.0             198.0      49.0     M        2.0   \n",
       "4    5126305            12.0             145.0      33.0     F        2.0   \n",
       "\n",
       "         bal  calls_6_mnth  logons_6_mnth  \n",
       "0   45105.30           6.0            9.0  \n",
       "1  110860.30           6.0            9.0  \n",
       "2   52467.79           6.0            9.0  \n",
       "3   67454.65           3.0            6.0  \n",
       "4  103671.75           0.0            3.0  "
      ]
     },
     "execution_count": 48,
     "metadata": {},
     "output_type": "execute_result"
    }
   ],
   "source": [
    "df_demo.head()"
   ]
  },
  {
   "cell_type": "code",
   "execution_count": 56,
   "id": "746f663c-deaf-4fe1-9d4a-77ccf5787346",
   "metadata": {},
   "outputs": [
    {
     "data": {
      "text/plain": [
       "client_id             int64\n",
       "clnt_tenure_yr      float64\n",
       "clnt_tenure_mnth    float64\n",
       "clnt_age            float64\n",
       "gendr                object\n",
       "num_accts           float64\n",
       "bal                 float64\n",
       "calls_6_mnth        float64\n",
       "logons_6_mnth       float64\n",
       "dtype: object"
      ]
     },
     "execution_count": 56,
     "metadata": {},
     "output_type": "execute_result"
    }
   ],
   "source": [
    "df_demo.dtypes"
   ]
  },
  {
   "cell_type": "code",
   "execution_count": 49,
   "id": "791b05ef-225c-44c2-af5a-f5ca74fe01e8",
   "metadata": {},
   "outputs": [
    {
     "data": {
      "text/plain": [
       "client_id            0\n",
       "clnt_tenure_yr      14\n",
       "clnt_tenure_mnth    14\n",
       "clnt_age            15\n",
       "gendr               14\n",
       "num_accts           14\n",
       "bal                 14\n",
       "calls_6_mnth        14\n",
       "logons_6_mnth       14\n",
       "dtype: int64"
      ]
     },
     "execution_count": 49,
     "metadata": {},
     "output_type": "execute_result"
    }
   ],
   "source": [
    "df_demo.isnull().sum()"
   ]
  },
  {
   "cell_type": "code",
   "execution_count": 94,
   "id": "75bf7f40-61e8-48d0-afc2-a60fe472269b",
   "metadata": {},
   "outputs": [
    {
     "data": {
      "text/plain": [
       "client_id           70609\n",
       "bal                 70328\n",
       "clnt_tenure_mnth      482\n",
       "clnt_age              165\n",
       "clnt_tenure_yr         54\n",
       "logons_6_mnth           9\n",
       "num_accts               8\n",
       "calls_6_mnth            8\n",
       "dtype: int64"
      ]
     },
     "execution_count": 94,
     "metadata": {},
     "output_type": "execute_result"
    }
   ],
   "source": [
    "df_demo.select_dtypes(\"number\").nunique().sort_values(ascending=False)"
   ]
  },
  {
   "cell_type": "code",
   "execution_count": 95,
   "id": "53e2b99a-c19b-40e6-a457-4e722abff3f8",
   "metadata": {},
   "outputs": [
    {
     "data": {
      "text/plain": [
       "array([ 9.,  6.,  3.,  5.,  4.,  8.,  7., nan,  1.,  2.])"
      ]
     },
     "execution_count": 95,
     "metadata": {},
     "output_type": "execute_result"
    }
   ],
   "source": [
    "df_demo[\"logons_6_mnth\"].unique()  # --> potential categorical"
   ]
  },
  {
   "cell_type": "code",
   "execution_count": 96,
   "id": "65edc414-6cc3-4df0-ad94-8a9d8bdfe684",
   "metadata": {},
   "outputs": [
    {
     "data": {
      "text/plain": [
       "array([ 2.,  5.,  3.,  4.,  6.,  7., nan,  1.,  8.])"
      ]
     },
     "execution_count": 96,
     "metadata": {},
     "output_type": "execute_result"
    }
   ],
   "source": [
    "df_demo[\"num_accts\"].unique()  # --> potential categorical"
   ]
  },
  {
   "cell_type": "code",
   "execution_count": 97,
   "id": "23648a61-8cdf-4e77-81ed-cfcc4ca090ee",
   "metadata": {},
   "outputs": [
    {
     "data": {
      "text/plain": [
       "array([ 6.,  3.,  0.,  2.,  1.,  5.,  4., nan,  7.])"
      ]
     },
     "execution_count": 97,
     "metadata": {},
     "output_type": "execute_result"
    }
   ],
   "source": [
    "df_demo[\"calls_6_mnth\"].unique()  # --> potential categorical"
   ]
  },
  {
   "cell_type": "code",
   "execution_count": 50,
   "id": "76474b70-e10c-4c5f-986b-13b0a197ae7e",
   "metadata": {},
   "outputs": [
    {
     "data": {
      "text/plain": [
       "array(['U', 'M', 'F', nan, 'X'], dtype=object)"
      ]
     },
     "execution_count": 50,
     "metadata": {},
     "output_type": "execute_result"
    }
   ],
   "source": [
    "df_demo[\"gendr\"].unique()"
   ]
  },
  {
   "cell_type": "code",
   "execution_count": 17,
   "id": "903e79a7-81ea-420f-accf-608c460bb54c",
   "metadata": {},
   "outputs": [],
   "source": [
    "def format_gender(gender):\n",
    "    if gender == \"M\":\n",
    "        return \"M\"\n",
    "    elif gender == \"F\":\n",
    "        return \"F\"\n",
    "    elif gender == \"U\":\n",
    "        return \"U\"\n",
    "    else:\n",
    "        return \"Unknown\"    "
   ]
  },
  {
   "cell_type": "code",
   "execution_count": 18,
   "id": "0c5d47f4-cf95-4cf9-9207-73fbb0f3233c",
   "metadata": {},
   "outputs": [],
   "source": [
    "df_demo[\"gendr\"] = df_demo[\"gendr\"].apply(format_gender)"
   ]
  },
  {
   "cell_type": "code",
   "execution_count": 43,
   "id": "32e5476e-d278-4b69-80d7-a4dc0ba6d479",
   "metadata": {},
   "outputs": [
    {
     "data": {
      "text/plain": [
       "gendr\n",
       "U          24122\n",
       "M          23724\n",
       "F          22746\n",
       "Unknown       17\n",
       "Name: count, dtype: int64"
      ]
     },
     "execution_count": 43,
     "metadata": {},
     "output_type": "execute_result"
    }
   ],
   "source": [
    "freq_gender = df_demo[\"gendr\"].value_counts()\n",
    "freq_gender"
   ]
  },
  {
   "cell_type": "code",
   "execution_count": 48,
   "id": "beef6f64",
   "metadata": {},
   "outputs": [
    {
     "data": {
      "text/plain": [
       "gendr\n",
       "U    24122\n",
       "M    23724\n",
       "F    22746\n",
       "Name: count, dtype: int64"
      ]
     },
     "execution_count": 48,
     "metadata": {},
     "output_type": "execute_result"
    }
   ],
   "source": [
    "df_demo_filtered = df_demo[df_demo[\"gendr\"] != \"Unknown\"]\n",
    "freq_gender_filt = df_demo_filtered[\"gendr\"].value_counts()\n",
    "freq_gender_filt"
   ]
  },
  {
   "cell_type": "code",
   "execution_count": 52,
   "id": "5c8c8412-5024-4c4c-ac8e-04046b6ceae7",
   "metadata": {},
   "outputs": [
    {
     "data": {
      "text/plain": [
       "(0.0, 30000.0)"
      ]
     },
     "execution_count": 52,
     "metadata": {},
     "output_type": "execute_result"
    },
    {
     "data": {
      "image/png": "[encoded data removed]",
      "text/plain": [
       "<Figure size 300x300 with 1 Axes>"
      ]
     },
     "metadata": {},
     "output_type": "display_data"
    }
   ],
   "source": [
    "freq_gender_filt = df_demo_filtered[\"gendr\"].value_counts()\n",
    "\n",
    "plt.figure(figsize=(3,3))\n",
    "palette = {\"U\" : \"grey\", \"M\" : \"purple\", \"F\" : \"pink\"}\n",
    "\n",
    "sns.barplot(x = freq_gender_filt.index, y = freq_gender_filt.values, \n",
    "            hue = freq_gender_filt.index, legend = False, palette = palette)\n",
    "\n",
    "plt.xlabel(\"Gender\")\n",
    "plt.ylabel(\"Count\")\n",
    "plt.ylim(0,30000)"
   ]
  },
  {
   "cell_type": "code",
   "execution_count": 21,
   "id": "9d5f86da-74bf-48cc-a1b3-8556e2effda4",
   "metadata": {},
   "outputs": [
    {
     "data": {
      "text/plain": [
       "num_accts\n",
       "2.0    55497\n",
       "3.0    12529\n",
       "4.0     2241\n",
       "5.0      284\n",
       "6.0       33\n",
       "7.0        8\n",
       "1.0        2\n",
       "8.0        1\n",
       "Name: count, dtype: int64"
      ]
     },
     "execution_count": 21,
     "metadata": {},
     "output_type": "execute_result"
    }
   ],
   "source": [
    "freq_account = df_demo[\"num_accts\"].value_counts()\n",
    "freq_account"
   ]
  },
  {
   "cell_type": "code",
   "execution_count": 22,
   "id": "45855706-a0d2-4308-abe2-3fe96da7a5cf",
   "metadata": {},
   "outputs": [
    {
     "data": {
      "text/plain": [
       "<Axes: xlabel='num_accts'>"
      ]
     },
     "execution_count": 22,
     "metadata": {},
     "output_type": "execute_result"
    },
    {
     "data": {
      "image/png": "[encoded data removed]",
      "text/plain": [
       "<Figure size 300x300 with 1 Axes>"
      ]
     },
     "metadata": {},
     "output_type": "display_data"
    }
   ],
   "source": [
    "plt.figure(figsize=(3,3))\n",
    "sns.barplot(x = freq_account.index, y = freq_account.values, hue = freq_account.index, legend = False)"
   ]
  },
  {
   "cell_type": "code",
   "execution_count": 24,
   "id": "fee82343-f029-47da-8ab1-6fab6b41dcbb",
   "metadata": {},
   "outputs": [
    {
     "data": {
      "text/plain": [
       "calls_6_mnth\n",
       "6.0    14112\n",
       "1.0    11016\n",
       "2.0    10252\n",
       "3.0     8752\n",
       "0.0     7732\n",
       "4.0     7175\n",
       "5.0     6627\n",
       "7.0     4929\n",
       "Name: count, dtype: int64"
      ]
     },
     "execution_count": 24,
     "metadata": {},
     "output_type": "execute_result"
    }
   ],
   "source": [
    "freq_calls = df_demo[\"calls_6_mnth\"].value_counts()\n",
    "freq_calls"
   ]
  },
  {
   "cell_type": "code",
   "execution_count": 25,
   "id": "dd6c1c5b-0e42-48f5-b0d1-280eecd86cf1",
   "metadata": {},
   "outputs": [
    {
     "data": {
      "text/plain": [
       "<Axes: xlabel='calls_6_mnth'>"
      ]
     },
     "execution_count": 25,
     "metadata": {},
     "output_type": "execute_result"
    },
    {
     "data": {
      "image/png": "[encoded data removed]",
      "text/plain": [
       "<Figure size 300x300 with 1 Axes>"
      ]
     },
     "metadata": {},
     "output_type": "display_data"
    }
   ],
   "source": [
    "plt.figure(figsize=(3,3))\n",
    "sns.barplot(x = freq_calls.index, y = freq_calls.values, hue = freq_calls.index, legend = False)"
   ]
  },
  {
   "cell_type": "code",
   "execution_count": 26,
   "id": "fe709948-0160-4ee8-b703-85211958e152",
   "metadata": {},
   "outputs": [
    {
     "data": {
      "text/plain": [
       "logons_6_mnth\n",
       "9.0    12350\n",
       "3.0    10243\n",
       "4.0    10220\n",
       "7.0     9893\n",
       "5.0     9254\n",
       "6.0     7878\n",
       "8.0     4810\n",
       "2.0     3009\n",
       "1.0     2938\n",
       "Name: count, dtype: int64"
      ]
     },
     "execution_count": 26,
     "metadata": {},
     "output_type": "execute_result"
    }
   ],
   "source": [
    "freq_logon = df_demo[\"logons_6_mnth\"].value_counts()\n",
    "freq_logon"
   ]
  },
  {
   "cell_type": "code",
   "execution_count": 27,
   "id": "2097ca25-b770-4379-8c42-5908c466dbda",
   "metadata": {},
   "outputs": [
    {
     "data": {
      "text/plain": [
       "<Axes: xlabel='logons_6_mnth'>"
      ]
     },
     "execution_count": 27,
     "metadata": {},
     "output_type": "execute_result"
    },
    {
     "data": {
      "image/png": "[encoded data removed]",
      "text/plain": [
       "<Figure size 300x300 with 1 Axes>"
      ]
     },
     "metadata": {},
     "output_type": "display_data"
    }
   ],
   "source": [
    "plt.figure(figsize=(3,3))\n",
    "sns.barplot(x = freq_logon.index, y = freq_logon.values, hue = freq_logon.index, legend = False)"
   ]
  },
  {
   "cell_type": "markdown",
   "id": "c04b23ad-b8a7-4837-9302-483229ce8de7",
   "metadata": {},
   "source": [
    "- Test to check for potential correlations between categorical variables"
   ]
  },
  {
   "cell_type": "code",
   "execution_count": 28,
   "id": "badc9b40-9d62-488c-b0ee-420510ab521a",
   "metadata": {},
   "outputs": [
    {
     "data": {
      "text/html": [
       "<div>\n",
       "<style scoped>\n",
       "    .dataframe tbody tr th:only-of-type {\n",
       "        vertical-align: middle;\n",
       "    }\n",
       "\n",
       "    .dataframe tbody tr th {\n",
       "        vertical-align: top;\n",
       "    }\n",
       "\n",
       "    .dataframe thead th {\n",
       "        text-align: right;\n",
       "    }\n",
       "</style>\n",
       "<table border=\"1\" class=\"dataframe\">\n",
       "  <thead>\n",
       "    <tr style=\"text-align: right;\">\n",
       "      <th>num_accts</th>\n",
       "      <th>1.0</th>\n",
       "      <th>2.0</th>\n",
       "      <th>3.0</th>\n",
       "      <th>4.0</th>\n",
       "      <th>5.0</th>\n",
       "      <th>6.0</th>\n",
       "      <th>7.0</th>\n",
       "      <th>8.0</th>\n",
       "    </tr>\n",
       "    <tr>\n",
       "      <th>gendr</th>\n",
       "      <th></th>\n",
       "      <th></th>\n",
       "      <th></th>\n",
       "      <th></th>\n",
       "      <th></th>\n",
       "      <th></th>\n",
       "      <th></th>\n",
       "      <th></th>\n",
       "    </tr>\n",
       "  </thead>\n",
       "  <tbody>\n",
       "    <tr>\n",
       "      <th>F</th>\n",
       "      <td>1</td>\n",
       "      <td>18379</td>\n",
       "      <td>3633</td>\n",
       "      <td>637</td>\n",
       "      <td>83</td>\n",
       "      <td>8</td>\n",
       "      <td>4</td>\n",
       "      <td>1</td>\n",
       "    </tr>\n",
       "    <tr>\n",
       "      <th>M</th>\n",
       "      <td>0</td>\n",
       "      <td>17373</td>\n",
       "      <td>5126</td>\n",
       "      <td>1051</td>\n",
       "      <td>147</td>\n",
       "      <td>23</td>\n",
       "      <td>4</td>\n",
       "      <td>0</td>\n",
       "    </tr>\n",
       "    <tr>\n",
       "      <th>U</th>\n",
       "      <td>1</td>\n",
       "      <td>19743</td>\n",
       "      <td>3769</td>\n",
       "      <td>553</td>\n",
       "      <td>54</td>\n",
       "      <td>2</td>\n",
       "      <td>0</td>\n",
       "      <td>0</td>\n",
       "    </tr>\n",
       "    <tr>\n",
       "      <th>Unknown</th>\n",
       "      <td>0</td>\n",
       "      <td>2</td>\n",
       "      <td>1</td>\n",
       "      <td>0</td>\n",
       "      <td>0</td>\n",
       "      <td>0</td>\n",
       "      <td>0</td>\n",
       "      <td>0</td>\n",
       "    </tr>\n",
       "  </tbody>\n",
       "</table>\n",
       "</div>"
      ],
      "text/plain": [
       "num_accts  1.0    2.0   3.0   4.0  5.0  6.0  7.0  8.0\n",
       "gendr                                                \n",
       "F            1  18379  3633   637   83    8    4    1\n",
       "M            0  17373  5126  1051  147   23    4    0\n",
       "U            1  19743  3769   553   54    2    0    0\n",
       "Unknown      0      2     1     0    0    0    0    0"
      ]
     },
     "execution_count": 28,
     "metadata": {},
     "output_type": "execute_result"
    }
   ],
   "source": [
    "cross_gen_acc = pd.crosstab(index = df_demo[\"gendr\"], columns = df_demo[\"num_accts\"])\n",
    "cross_gen_acc"
   ]
  },
  {
   "cell_type": "code",
   "execution_count": 29,
   "id": "2cb3956f-6cca-4f2e-a1fe-b29ae575d787",
   "metadata": {},
   "outputs": [
    {
     "name": "stdout",
     "output_type": "stream",
     "text": [
      "697.75 3.9651370433106605e-134\n"
     ]
    }
   ],
   "source": [
    "chi2_statistic, p_value, dof, expected = chi2_contingency(cross_gen_acc)\n",
    "print(round(chi2_statistic, 2), p_value)"
   ]
  },
  {
   "cell_type": "code",
   "execution_count": 30,
   "id": "3b49bc4e-2fcc-4f50-a204-35caa862ad47",
   "metadata": {},
   "outputs": [
    {
     "data": {
      "text/plain": [
       "0.05739878127405165"
      ]
     },
     "execution_count": 30,
     "metadata": {},
     "output_type": "execute_result"
    }
   ],
   "source": [
    "association(cross_gen_acc, method = \"cramer\")"
   ]
  },
  {
   "cell_type": "code",
   "execution_count": 31,
   "id": "4e843749-8dba-4d94-8099-7f8a6bcb4248",
   "metadata": {},
   "outputs": [
    {
     "data": {
      "text/plain": [
       "<Axes: xlabel='gendr', ylabel='count'>"
      ]
     },
     "execution_count": 31,
     "metadata": {},
     "output_type": "execute_result"
    },
    {
     "data": {
      "image/png": "[encoded data removed]",
      "text/plain": [
       "<Figure size 640x480 with 1 Axes>"
      ]
     },
     "metadata": {},
     "output_type": "display_data"
    }
   ],
   "source": [
    "sns.countplot(data = df_demo, x = df_demo[\"gendr\"], hue = df_demo[\"num_accts\"])"
   ]
  },
  {
   "cell_type": "markdown",
   "id": "d0aa2910-7e13-4135-ba4e-a007a5c4cdd7",
   "metadata": {},
   "source": [
    "**Association between gender and number of accounts** --> altough the chi2 test p-value is < 0.05 (potentially given by the \"unknown\" values almost equal to 0, Cramer's V value indicates that there is almost no association between the two variables."
   ]
  },
  {
   "cell_type": "code",
   "execution_count": 32,
   "id": "a2163c53-3f34-437a-8c41-2828b296a481",
   "metadata": {},
   "outputs": [],
   "source": [
    "df_demo_numerical = df_demo.select_dtypes(\"number\").drop(columns = [\"client_id\", \"logons_6_mnth\", \"num_accts\", \"calls_6_mnth\"], axis = 1)"
   ]
  },
  {
   "cell_type": "code",
   "execution_count": 33,
   "id": "9bfd8bda-12b2-4f73-8328-7e2d7b21ace2",
   "metadata": {},
   "outputs": [
    {
     "data": {
      "text/html": [
       "<div>\n",
       "<style scoped>\n",
       "    .dataframe tbody tr th:only-of-type {\n",
       "        vertical-align: middle;\n",
       "    }\n",
       "\n",
       "    .dataframe tbody tr th {\n",
       "        vertical-align: top;\n",
       "    }\n",
       "\n",
       "    .dataframe thead th {\n",
       "        text-align: right;\n",
       "    }\n",
       "</style>\n",
       "<table border=\"1\" class=\"dataframe\">\n",
       "  <thead>\n",
       "    <tr style=\"text-align: right;\">\n",
       "      <th></th>\n",
       "      <th>clnt_tenure_yr</th>\n",
       "      <th>clnt_tenure_mnth</th>\n",
       "      <th>clnt_age</th>\n",
       "      <th>bal</th>\n",
       "    </tr>\n",
       "  </thead>\n",
       "  <tbody>\n",
       "    <tr>\n",
       "      <th>count</th>\n",
       "      <td>70595.00</td>\n",
       "      <td>70595.00</td>\n",
       "      <td>70594.00</td>\n",
       "      <td>70595.00</td>\n",
       "    </tr>\n",
       "    <tr>\n",
       "      <th>mean</th>\n",
       "      <td>12.05</td>\n",
       "      <td>150.66</td>\n",
       "      <td>46.44</td>\n",
       "      <td>147445.24</td>\n",
       "    </tr>\n",
       "    <tr>\n",
       "      <th>std</th>\n",
       "      <td>6.87</td>\n",
       "      <td>82.09</td>\n",
       "      <td>15.59</td>\n",
       "      <td>301508.71</td>\n",
       "    </tr>\n",
       "    <tr>\n",
       "      <th>min</th>\n",
       "      <td>2.00</td>\n",
       "      <td>33.00</td>\n",
       "      <td>13.50</td>\n",
       "      <td>13789.42</td>\n",
       "    </tr>\n",
       "    <tr>\n",
       "      <th>25%</th>\n",
       "      <td>6.00</td>\n",
       "      <td>82.00</td>\n",
       "      <td>32.50</td>\n",
       "      <td>37346.84</td>\n",
       "    </tr>\n",
       "    <tr>\n",
       "      <th>50%</th>\n",
       "      <td>11.00</td>\n",
       "      <td>136.00</td>\n",
       "      <td>47.00</td>\n",
       "      <td>63332.90</td>\n",
       "    </tr>\n",
       "    <tr>\n",
       "      <th>75%</th>\n",
       "      <td>16.00</td>\n",
       "      <td>192.00</td>\n",
       "      <td>59.00</td>\n",
       "      <td>137544.90</td>\n",
       "    </tr>\n",
       "    <tr>\n",
       "      <th>max</th>\n",
       "      <td>62.00</td>\n",
       "      <td>749.00</td>\n",
       "      <td>96.00</td>\n",
       "      <td>16320040.15</td>\n",
       "    </tr>\n",
       "  </tbody>\n",
       "</table>\n",
       "</div>"
      ],
      "text/plain": [
       "       clnt_tenure_yr  clnt_tenure_mnth  clnt_age          bal\n",
       "count        70595.00          70595.00  70594.00     70595.00\n",
       "mean            12.05            150.66     46.44    147445.24\n",
       "std              6.87             82.09     15.59    301508.71\n",
       "min              2.00             33.00     13.50     13789.42\n",
       "25%              6.00             82.00     32.50     37346.84\n",
       "50%             11.00            136.00     47.00     63332.90\n",
       "75%             16.00            192.00     59.00    137544.90\n",
       "max             62.00            749.00     96.00  16320040.15"
      ]
     },
     "execution_count": 33,
     "metadata": {},
     "output_type": "execute_result"
    }
   ],
   "source": [
    "round(df_demo_numerical.describe(), 2)"
   ]
  },
  {
   "cell_type": "code",
   "execution_count": 34,
   "id": "4b438349-bd43-4514-bcfe-ae9ca72971c7",
   "metadata": {},
   "outputs": [
    {
     "data": {
      "text/plain": [
       "array([[<Axes: title={'center': 'clnt_tenure_yr'}>,\n",
       "        <Axes: title={'center': 'clnt_tenure_mnth'}>],\n",
       "       [<Axes: title={'center': 'clnt_age'}>,\n",
       "        <Axes: title={'center': 'bal'}>]], dtype=object)"
      ]
     },
     "execution_count": 34,
     "metadata": {},
     "output_type": "execute_result"
    },
    {
     "data": {
      "image/png": "[encoded data removed]",
      "text/plain": [
       "<Figure size 600x600 with 4 Axes>"
      ]
     },
     "metadata": {},
     "output_type": "display_data"
    }
   ],
   "source": [
    "df_demo_numerical.hist(figsize = (6,6), bins = 40, xlabelsize = 5, ylabelsize = 5)"
   ]
  },
  {
   "cell_type": "code",
   "execution_count": 35,
   "id": "c176ced8-e520-4661-aa39-a45ec8f191d0",
   "metadata": {},
   "outputs": [],
   "source": [
    "def histo_numerical(df, column):\n",
    "    column_data = df[column]\n",
    "\n",
    "    skewness = column_data.skew()\n",
    "    kurtosis = column_data.kurtosis()\n",
    "    print(f\"\"\"Distribution measures:\n",
    "    Skewness: {skewness}\n",
    "    Kurtosis: {kurtosis}\"\"\")\n",
    "\n",
    "    plt.figure(figsize = (3,3))\n",
    "    sns.histplot(column_data, bins = 20, kde = True)"
   ]
  },
  {
   "cell_type": "code",
   "execution_count": 36,
   "id": "2551de41-942f-40dd-ab01-aa88a635643a",
   "metadata": {},
   "outputs": [],
   "source": [
    "def centrality_dispersion(df, column):\n",
    "    \n",
    "    column_data = df[column]\n",
    "    \n",
    "    mean = column_data.mean().round(2)\n",
    "    median = column_data.median()\n",
    "    mode = column_data.mode()[0]\n",
    "    variance = round(column_data.var(), 2)\n",
    "    std_dev = round(column_data.std(), 2)\n",
    "\n",
    "    print(f\"\"\"Measures of centrality and dispersion for {column}:\n",
    "    Mean: {mean}\n",
    "    Median: {median}\n",
    "    Mode: {mode}\n",
    "    Variance: {variance}\n",
    "    Standard deviation: {std_dev}\"\"\")\n",
    "\n",
    "    result = {\n",
    "        \"Mean\": mean,\n",
    "        \"Median\": median,\n",
    "        \"Mode\": mode,\n",
    "        \"Variance\": variance,\n",
    "        \"Standard Deviation\": std_dev\n",
    "    }\n",
    "\n",
    "    return result"
   ]
  },
  {
   "cell_type": "code",
   "execution_count": 37,
   "id": "f758ed37-8748-4037-a4e3-0851ee1b54ed",
   "metadata": {},
   "outputs": [
    {
     "name": "stdout",
     "output_type": "stream",
     "text": [
      "Distribution measures:\n",
      "    Skewness: 1.0366465399008236\n",
      "    Kurtosis: 1.0709771210550496\n"
     ]
    },
    {
     "data": {
      "image/png": "[encoded data removed]",
      "text/plain": [
       "<Figure size 300x300 with 1 Axes>"
      ]
     },
     "metadata": {},
     "output_type": "display_data"
    }
   ],
   "source": [
    "histo_numerical(df_demo, \"clnt_tenure_yr\")"
   ]
  },
  {
   "cell_type": "code",
   "execution_count": 38,
   "id": "494da035-4149-4adb-910b-5608e04b4137",
   "metadata": {},
   "outputs": [
    {
     "name": "stdout",
     "output_type": "stream",
     "text": [
      "Measures of centrality and dispersion for clnt_tenure_yr:\n",
      "    Mean: 12.05\n",
      "    Median: 11.0\n",
      "    Mode: 6.0\n",
      "    Variance: 47.22\n",
      "    Standard deviation: 6.87\n"
     ]
    }
   ],
   "source": [
    "results = centrality_dispersion(df_demo, \"clnt_tenure_yr\")"
   ]
  },
  {
   "cell_type": "code",
   "execution_count": 72,
   "id": "a4931473-6881-4eb7-8142-25691d8d0adb",
   "metadata": {},
   "outputs": [
    {
     "name": "stdout",
     "output_type": "stream",
     "text": [
      "Distribution measures:\n",
      "    Skewness: 0.08182349158703763\n",
      "    Kurtosis: -0.9271048487356293\n"
     ]
    },
    {
     "data": {
      "text/plain": [
       "Text(0.5, 0, 'Client Age')"
      ]
     },
     "execution_count": 72,
     "metadata": {},
     "output_type": "execute_result"
    },
    {
     "data": {
      "image/png": "[encoded data removed]",
      "text/plain": [
       "<Figure size 300x300 with 1 Axes>"
      ]
     },
     "metadata": {},
     "output_type": "display_data"
    }
   ],
   "source": [
    "histo_numerical(df_demo, \"clnt_age\")\n",
    "plt.xlabel(\"Client Age\")"
   ]
  },
  {
   "cell_type": "code",
   "execution_count": 40,
   "id": "69c1cfd5-d7d7-449f-b02b-f0e1def45f52",
   "metadata": {},
   "outputs": [
    {
     "name": "stdout",
     "output_type": "stream",
     "text": [
      "Measures of centrality and dispersion for clnt_age:\n",
      "    Mean: 46.44\n",
      "    Median: 47.0\n",
      "    Mode: 58.5\n",
      "    Variance: 243.09\n",
      "    Standard deviation: 15.59\n"
     ]
    }
   ],
   "source": [
    "results = centrality_dispersion(df_demo, \"clnt_age\")"
   ]
  },
  {
   "cell_type": "code",
   "execution_count": 41,
   "id": "acb8feba-242e-49fc-91ba-2e5f08c81aad",
   "metadata": {},
   "outputs": [
    {
     "name": "stdout",
     "output_type": "stream",
     "text": [
      "Distribution measures:\n",
      "    Skewness: 11.164366675931957\n",
      "    Kurtosis: 278.2072251784584\n"
     ]
    },
    {
     "data": {
      "image/png": "[encoded data removed]",
      "text/plain": [
       "<Figure size 300x300 with 1 Axes>"
      ]
     },
     "metadata": {},
     "output_type": "display_data"
    }
   ],
   "source": [
    "histo_numerical(df_demo, \"bal\")"
   ]
  },
  {
   "cell_type": "code",
   "execution_count": 42,
   "id": "71119eca-af89-4085-8a9b-419fbe64d3bf",
   "metadata": {},
   "outputs": [
    {
     "name": "stdout",
     "output_type": "stream",
     "text": [
      "Measures of centrality and dispersion for bal:\n",
      "    Mean: 147445.24\n",
      "    Median: 63332.9\n",
      "    Mode: 31188.62\n",
      "    Variance: 90907500113.94\n",
      "    Standard deviation: 301508.71\n"
     ]
    }
   ],
   "source": [
    "results = centrality_dispersion(df_demo, \"bal\")"
   ]
  },
  {
   "cell_type": "markdown",
   "id": "8246777d-e891-42bb-9b23-89dd45202450",
   "metadata": {},
   "source": [
    "### Exploring **df_exp**"
   ]
  },
  {
   "cell_type": "code",
   "execution_count": 171,
   "id": "8cf139d9-c548-40d9-a6dd-3fe8204f2563",
   "metadata": {},
   "outputs": [
    {
     "data": {
      "text/html": [
       "<div>\n",
       "<style scoped>\n",
       "    .dataframe tbody tr th:only-of-type {\n",
       "        vertical-align: middle;\n",
       "    }\n",
       "\n",
       "    .dataframe tbody tr th {\n",
       "        vertical-align: top;\n",
       "    }\n",
       "\n",
       "    .dataframe thead th {\n",
       "        text-align: right;\n",
       "    }\n",
       "</style>\n",
       "<table border=\"1\" class=\"dataframe\">\n",
       "  <thead>\n",
       "    <tr style=\"text-align: right;\">\n",
       "      <th></th>\n",
       "      <th>client_id</th>\n",
       "      <th>visitor_id</th>\n",
       "      <th>visit_id</th>\n",
       "      <th>process_step</th>\n",
       "      <th>date_time</th>\n",
       "    </tr>\n",
       "  </thead>\n",
       "  <tbody>\n",
       "    <tr>\n",
       "      <th>0</th>\n",
       "      <td>9988021</td>\n",
       "      <td>580560515_7732621733</td>\n",
       "      <td>781255054_21935453173_531117</td>\n",
       "      <td>step_3</td>\n",
       "      <td>2017-04-17 15:27:07</td>\n",
       "    </tr>\n",
       "    <tr>\n",
       "      <th>1</th>\n",
       "      <td>9988021</td>\n",
       "      <td>580560515_7732621733</td>\n",
       "      <td>781255054_21935453173_531117</td>\n",
       "      <td>step_2</td>\n",
       "      <td>2017-04-17 15:26:51</td>\n",
       "    </tr>\n",
       "    <tr>\n",
       "      <th>2</th>\n",
       "      <td>9988021</td>\n",
       "      <td>580560515_7732621733</td>\n",
       "      <td>781255054_21935453173_531117</td>\n",
       "      <td>step_3</td>\n",
       "      <td>2017-04-17 15:19:22</td>\n",
       "    </tr>\n",
       "    <tr>\n",
       "      <th>3</th>\n",
       "      <td>9988021</td>\n",
       "      <td>580560515_7732621733</td>\n",
       "      <td>781255054_21935453173_531117</td>\n",
       "      <td>step_2</td>\n",
       "      <td>2017-04-17 15:19:13</td>\n",
       "    </tr>\n",
       "    <tr>\n",
       "      <th>4</th>\n",
       "      <td>9988021</td>\n",
       "      <td>580560515_7732621733</td>\n",
       "      <td>781255054_21935453173_531117</td>\n",
       "      <td>step_3</td>\n",
       "      <td>2017-04-17 15:18:04</td>\n",
       "    </tr>\n",
       "  </tbody>\n",
       "</table>\n",
       "</div>"
      ],
      "text/plain": [
       "   client_id            visitor_id                      visit_id process_step  \\\n",
       "0    9988021  580560515_7732621733  781255054_21935453173_531117       step_3   \n",
       "1    9988021  580560515_7732621733  781255054_21935453173_531117       step_2   \n",
       "2    9988021  580560515_7732621733  781255054_21935453173_531117       step_3   \n",
       "3    9988021  580560515_7732621733  781255054_21935453173_531117       step_2   \n",
       "4    9988021  580560515_7732621733  781255054_21935453173_531117       step_3   \n",
       "\n",
       "             date_time  \n",
       "0  2017-04-17 15:27:07  \n",
       "1  2017-04-17 15:26:51  \n",
       "2  2017-04-17 15:19:22  \n",
       "3  2017-04-17 15:19:13  \n",
       "4  2017-04-17 15:18:04  "
      ]
     },
     "execution_count": 171,
     "metadata": {},
     "output_type": "execute_result"
    }
   ],
   "source": [
    "df_exp.head()"
   ]
  },
  {
   "cell_type": "code",
   "execution_count": 58,
   "id": "c42865b0-2eb3-4dac-937a-dd1102d268ed",
   "metadata": {},
   "outputs": [
    {
     "data": {
      "text/plain": [
       "client_id        int64\n",
       "visitor_id      object\n",
       "visit_id        object\n",
       "process_step    object\n",
       "date_time       object\n",
       "dtype: object"
      ]
     },
     "execution_count": 58,
     "metadata": {},
     "output_type": "execute_result"
    }
   ],
   "source": [
    "df_exp.dtypes"
   ]
  },
  {
   "cell_type": "markdown",
   "id": "f9b67c9d-2e51-47c4-ae40-5bfafee18801",
   "metadata": {},
   "source": [
    "### Exploring **df_final**"
   ]
  },
  {
   "cell_type": "code",
   "execution_count": 59,
   "id": "4a1e24df-6404-4ed9-8e23-c5aeeeb38574",
   "metadata": {},
   "outputs": [
    {
     "data": {
      "text/html": [
       "<div>\n",
       "<style scoped>\n",
       "    .dataframe tbody tr th:only-of-type {\n",
       "        vertical-align: middle;\n",
       "    }\n",
       "\n",
       "    .dataframe tbody tr th {\n",
       "        vertical-align: top;\n",
       "    }\n",
       "\n",
       "    .dataframe thead th {\n",
       "        text-align: right;\n",
       "    }\n",
       "</style>\n",
       "<table border=\"1\" class=\"dataframe\">\n",
       "  <thead>\n",
       "    <tr style=\"text-align: right;\">\n",
       "      <th></th>\n",
       "      <th>client_id</th>\n",
       "      <th>Variation</th>\n",
       "    </tr>\n",
       "  </thead>\n",
       "  <tbody>\n",
       "    <tr>\n",
       "      <th>0</th>\n",
       "      <td>9988021</td>\n",
       "      <td>Test</td>\n",
       "    </tr>\n",
       "    <tr>\n",
       "      <th>1</th>\n",
       "      <td>8320017</td>\n",
       "      <td>Test</td>\n",
       "    </tr>\n",
       "    <tr>\n",
       "      <th>2</th>\n",
       "      <td>4033851</td>\n",
       "      <td>Control</td>\n",
       "    </tr>\n",
       "    <tr>\n",
       "      <th>3</th>\n",
       "      <td>1982004</td>\n",
       "      <td>Test</td>\n",
       "    </tr>\n",
       "    <tr>\n",
       "      <th>4</th>\n",
       "      <td>9294070</td>\n",
       "      <td>Control</td>\n",
       "    </tr>\n",
       "  </tbody>\n",
       "</table>\n",
       "</div>"
      ],
      "text/plain": [
       "   client_id Variation\n",
       "0    9988021      Test\n",
       "1    8320017      Test\n",
       "2    4033851   Control\n",
       "3    1982004      Test\n",
       "4    9294070   Control"
      ]
     },
     "execution_count": 59,
     "metadata": {},
     "output_type": "execute_result"
    }
   ],
   "source": [
    "df_final.head()"
   ]
  },
  {
   "cell_type": "code",
   "execution_count": 12,
   "id": "ddd95202-4b0b-457c-a464-df5116744e40",
   "metadata": {},
   "outputs": [
    {
     "data": {
      "text/plain": [
       "client_id    False\n",
       "Variation     True\n",
       "dtype: bool"
      ]
     },
     "execution_count": 12,
     "metadata": {},
     "output_type": "execute_result"
    }
   ],
   "source": [
    "df_final.isnull().any()"
   ]
  },
  {
   "cell_type": "code",
   "execution_count": 13,
   "id": "45f36f38-9cd3-4d95-897c-9757da175e0a",
   "metadata": {},
   "outputs": [
    {
     "data": {
      "text/plain": [
       "array(['Test', 'Control', nan], dtype=object)"
      ]
     },
     "execution_count": 13,
     "metadata": {},
     "output_type": "execute_result"
    }
   ],
   "source": [
    "df_final[\"Variation\"].unique()"
   ]
  },
  {
   "cell_type": "code",
   "execution_count": 16,
   "id": "acbb4daf-3daf-4d3f-9c0e-aca121d092d1",
   "metadata": {},
   "outputs": [],
   "source": [
    "# Replace nan values with \"Not included\" (in the experiment)\n",
    "\n",
    "def replace_nan(value):\n",
    "    \n",
    "    if value == \"Test\":\n",
    "        return \"Test\"\n",
    "    elif value == \"Control\":\n",
    "        return \"Control\"\n",
    "    else:\n",
    "        return \"Not included\""
   ]
  },
  {
   "cell_type": "code",
   "execution_count": 17,
   "id": "6fb84192-a538-415a-842c-c3cadde42910",
   "metadata": {},
   "outputs": [],
   "source": [
    "df_final[\"Variation\"] = df_final[\"Variation\"].map(replace_nan)"
   ]
  },
  {
   "cell_type": "code",
   "execution_count": 18,
   "id": "7f30bda5-c723-4ea9-9226-202a60580c00",
   "metadata": {},
   "outputs": [
    {
     "data": {
      "text/plain": [
       "array(['Test', 'Control', 'Not included'], dtype=object)"
      ]
     },
     "execution_count": 18,
     "metadata": {},
     "output_type": "execute_result"
    }
   ],
   "source": [
    "df_final[\"Variation\"].unique()"
   ]
  },
  {
   "cell_type": "code",
   "execution_count": 11,
   "id": "3851e416-21be-4b6c-a44d-d6b740a55b46",
   "metadata": {},
   "outputs": [
    {
     "data": {
      "text/plain": [
       "client_id     int64\n",
       "Variation    object\n",
       "dtype: object"
      ]
     },
     "execution_count": 11,
     "metadata": {},
     "output_type": "execute_result"
    }
   ],
   "source": [
    "df_final.dtypes"
   ]
  },
  {
   "cell_type": "code",
   "execution_count": 21,
   "id": "541825d8-63d6-47ee-b17e-3c7ae6ad4392",
   "metadata": {},
   "outputs": [
    {
     "data": {
      "text/plain": [
       "False"
      ]
     },
     "execution_count": 21,
     "metadata": {},
     "output_type": "execute_result"
    }
   ],
   "source": [
    "df_final.duplicated().any()"
   ]
  },
  {
   "cell_type": "code",
   "execution_count": 30,
   "id": "2cdf43e2-9a6e-4de2-bad5-0305e23ff5d0",
   "metadata": {},
   "outputs": [
    {
     "data": {
      "text/html": [
       "<div>\n",
       "<style scoped>\n",
       "    .dataframe tbody tr th:only-of-type {\n",
       "        vertical-align: middle;\n",
       "    }\n",
       "\n",
       "    .dataframe tbody tr th {\n",
       "        vertical-align: top;\n",
       "    }\n",
       "\n",
       "    .dataframe thead th {\n",
       "        text-align: right;\n",
       "    }\n",
       "</style>\n",
       "<table border=\"1\" class=\"dataframe\">\n",
       "  <thead>\n",
       "    <tr style=\"text-align: right;\">\n",
       "      <th></th>\n",
       "      <th>client_id</th>\n",
       "    </tr>\n",
       "    <tr>\n",
       "      <th>Variation</th>\n",
       "      <th></th>\n",
       "    </tr>\n",
       "  </thead>\n",
       "  <tbody>\n",
       "    <tr>\n",
       "      <th>Test</th>\n",
       "      <td>26968</td>\n",
       "    </tr>\n",
       "    <tr>\n",
       "      <th>Control</th>\n",
       "      <td>23532</td>\n",
       "    </tr>\n",
       "    <tr>\n",
       "      <th>Not included</th>\n",
       "      <td>20109</td>\n",
       "    </tr>\n",
       "  </tbody>\n",
       "</table>\n",
       "</div>"
      ],
      "text/plain": [
       "              client_id\n",
       "Variation              \n",
       "Test              26968\n",
       "Control           23532\n",
       "Not included      20109"
      ]
     },
     "execution_count": 30,
     "metadata": {},
     "output_type": "execute_result"
    }
   ],
   "source": [
    "df_group = df_final.groupby(\"Variation\")[[\"client_id\"]].count().sort_values(by = \"client_id\", ascending=False)\n",
    "df_group"
   ]
  },
  {
   "cell_type": "code",
   "execution_count": 74,
   "id": "8eb661a9-a805-4f82-beb7-5ed63cd18dca",
   "metadata": {},
   "outputs": [
    {
     "data": {
      "image/png": "[encoded data removed]",
      "text/plain": [
       "<Figure size 300x300 with 1 Axes>"
      ]
     },
     "metadata": {},
     "output_type": "display_data"
    }
   ],
   "source": [
    "plt.figure(figsize=(3,3))\n",
    "\n",
    "plot = sns.barplot(data = df_group, x = \"Variation\", y = \"client_id\", hue = \"Variation\", palette = \"husl\")\n",
    "plot.patches[2].set_facecolor('gray')"
   ]
  },
  {
   "cell_type": "markdown",
   "id": "ea33175a-1616-4637-9c06-f1b5dc2e8b81",
   "metadata": {},
   "source": [
    "**1./2. Who are the primary clients**"
   ]
  },
  {
   "cell_type": "code",
   "execution_count": null,
   "id": "34d4f2cf",
   "metadata": {},
   "outputs": [],
   "source": [
    "histo_numerical"
   ]
  },
  {
   "cell_type": "code",
   "execution_count": 34,
   "id": "844c750b-4451-481d-b971-a4662c4de4f8",
   "metadata": {},
   "outputs": [
    {
     "data": {
      "text/html": [
       "<div>\n",
       "<style scoped>\n",
       "    .dataframe tbody tr th:only-of-type {\n",
       "        vertical-align: middle;\n",
       "    }\n",
       "\n",
       "    .dataframe tbody tr th {\n",
       "        vertical-align: top;\n",
       "    }\n",
       "\n",
       "    .dataframe thead th {\n",
       "        text-align: right;\n",
       "    }\n",
       "</style>\n",
       "<table border=\"1\" class=\"dataframe\">\n",
       "  <thead>\n",
       "    <tr style=\"text-align: right;\">\n",
       "      <th></th>\n",
       "      <th>client_id</th>\n",
       "      <th>clnt_tenure_yr</th>\n",
       "      <th>clnt_tenure_mnth</th>\n",
       "      <th>clnt_age</th>\n",
       "      <th>gendr</th>\n",
       "      <th>num_accts</th>\n",
       "      <th>bal</th>\n",
       "      <th>calls_6_mnth</th>\n",
       "      <th>logons_6_mnth</th>\n",
       "    </tr>\n",
       "  </thead>\n",
       "  <tbody>\n",
       "    <tr>\n",
       "      <th>0</th>\n",
       "      <td>836976</td>\n",
       "      <td>6.0</td>\n",
       "      <td>73.0</td>\n",
       "      <td>60.5</td>\n",
       "      <td>U</td>\n",
       "      <td>2.0</td>\n",
       "      <td>45105.30</td>\n",
       "      <td>6.0</td>\n",
       "      <td>9.0</td>\n",
       "    </tr>\n",
       "    <tr>\n",
       "      <th>1</th>\n",
       "      <td>2304905</td>\n",
       "      <td>7.0</td>\n",
       "      <td>94.0</td>\n",
       "      <td>58.0</td>\n",
       "      <td>U</td>\n",
       "      <td>2.0</td>\n",
       "      <td>110860.30</td>\n",
       "      <td>6.0</td>\n",
       "      <td>9.0</td>\n",
       "    </tr>\n",
       "    <tr>\n",
       "      <th>2</th>\n",
       "      <td>1439522</td>\n",
       "      <td>5.0</td>\n",
       "      <td>64.0</td>\n",
       "      <td>32.0</td>\n",
       "      <td>U</td>\n",
       "      <td>2.0</td>\n",
       "      <td>52467.79</td>\n",
       "      <td>6.0</td>\n",
       "      <td>9.0</td>\n",
       "    </tr>\n",
       "    <tr>\n",
       "      <th>3</th>\n",
       "      <td>1562045</td>\n",
       "      <td>16.0</td>\n",
       "      <td>198.0</td>\n",
       "      <td>49.0</td>\n",
       "      <td>M</td>\n",
       "      <td>2.0</td>\n",
       "      <td>67454.65</td>\n",
       "      <td>3.0</td>\n",
       "      <td>6.0</td>\n",
       "    </tr>\n",
       "    <tr>\n",
       "      <th>4</th>\n",
       "      <td>5126305</td>\n",
       "      <td>12.0</td>\n",
       "      <td>145.0</td>\n",
       "      <td>33.0</td>\n",
       "      <td>F</td>\n",
       "      <td>2.0</td>\n",
       "      <td>103671.75</td>\n",
       "      <td>0.0</td>\n",
       "      <td>3.0</td>\n",
       "    </tr>\n",
       "  </tbody>\n",
       "</table>\n",
       "</div>"
      ],
      "text/plain": [
       "   client_id  clnt_tenure_yr  clnt_tenure_mnth  clnt_age gendr  num_accts  \\\n",
       "0     836976             6.0              73.0      60.5     U        2.0   \n",
       "1    2304905             7.0              94.0      58.0     U        2.0   \n",
       "2    1439522             5.0              64.0      32.0     U        2.0   \n",
       "3    1562045            16.0             198.0      49.0     M        2.0   \n",
       "4    5126305            12.0             145.0      33.0     F        2.0   \n",
       "\n",
       "         bal  calls_6_mnth  logons_6_mnth  \n",
       "0   45105.30           6.0            9.0  \n",
       "1  110860.30           6.0            9.0  \n",
       "2   52467.79           6.0            9.0  \n",
       "3   67454.65           3.0            6.0  \n",
       "4  103671.75           0.0            3.0  "
      ]
     },
     "execution_count": 34,
     "metadata": {},
     "output_type": "execute_result"
    }
   ],
   "source": [
    "df_demo.head()"
   ]
  },
  {
   "cell_type": "code",
   "execution_count": 54,
   "id": "2577bada-b104-412a-92e8-4c4a72c354f8",
   "metadata": {},
   "outputs": [],
   "source": [
    "def categ_age(age):\n",
    "    if isinstance(age, float):\n",
    "        if 0 <= age <= 15:\n",
    "            return \"Kid/Teenager\"\n",
    "        elif 16 <= age <= 20:\n",
    "            return \"Young adult\"\n",
    "        elif 21 <= age <= 35:\n",
    "            return \"Adult\"\n",
    "        elif 36 <= age <= 55:\n",
    "            return \"Middle-age\"\n",
    "        elif 56 <= age <= 75:\n",
    "            return \"Senior\"\n",
    "        elif 76 <= age <= 100:\n",
    "            return \"Elderly\"\n",
    "    else:\n",
    "        return \"Unknown\""
   ]
  },
  {
   "cell_type": "code",
   "execution_count": 55,
   "id": "a1549236-d3b1-4143-ab96-1df0796778ce",
   "metadata": {},
   "outputs": [],
   "source": [
    "df_demo[\"age_category\"] = df_demo[\"clnt_age\"].map(categ_age)"
   ]
  },
  {
   "cell_type": "code",
   "execution_count": 56,
   "id": "eb402c78-4deb-4325-bf9a-b37408bbed24",
   "metadata": {},
   "outputs": [
    {
     "data": {
      "text/plain": [
       "age_category\n",
       "Middle-age      25575\n",
       "Senior          20825\n",
       "Adult           19269\n",
       "Elderly          1451\n",
       "Young adult      1394\n",
       "Kid/Teenager       48\n",
       "Name: count, dtype: int64"
      ]
     },
     "execution_count": 56,
     "metadata": {},
     "output_type": "execute_result"
    }
   ],
   "source": [
    "age_freq = df_demo[\"age_category\"].value_counts()\n",
    "age_freq"
   ]
  },
  {
   "cell_type": "code",
   "execution_count": 70,
   "id": "19efd759-26be-4fab-b952-91dba28d9dbd",
   "metadata": {},
   "outputs": [
    {
     "data": {
      "text/plain": [
       "(0.0, 30000.0)"
      ]
     },
     "execution_count": 70,
     "metadata": {},
     "output_type": "execute_result"
    },
    {
     "data": {
      "image/png": "[encoded data removed]",
      "text/plain": [
       "<Figure size 300x300 with 1 Axes>"
      ]
     },
     "metadata": {},
     "output_type": "display_data"
    }
   ],
   "source": [
    "palette_deep = {\"Elderly\" : \"#4C72B0\", \"Senior\":\"#55A868\", \"Middle-age\":\"#C44E52\", \n",
    "                \"Adult\":\"#8172B2\", \"Young adult\": \"#CCB974\", \"Kid/Teenager\":\"#64B5CD\"}\n",
    "plt.figure(figsize=(3,3))\n",
    "sns.barplot(y = age_freq.index, x = age_freq.values, hue = age_freq.index, legend = False, palette = palette_deep,  \n",
    "            order = [\"Elderly\", \"Senior\", \"Middle-age\", \"Adult\", \"Young adult\", \"Kid/Teenager\"])\n",
    "\n",
    "plt.ylabel(\"Age Category\")\n",
    "plt.xlim(0, 30000)"
   ]
  },
  {
   "cell_type": "code",
   "execution_count": 61,
   "id": "a73e4b7b-c270-48e1-8cbf-3279f1e3f181",
   "metadata": {},
   "outputs": [
    {
     "data": {
      "text/html": [
       "<div>\n",
       "<style scoped>\n",
       "    .dataframe tbody tr th:only-of-type {\n",
       "        vertical-align: middle;\n",
       "    }\n",
       "\n",
       "    .dataframe tbody tr th {\n",
       "        vertical-align: top;\n",
       "    }\n",
       "\n",
       "    .dataframe thead th {\n",
       "        text-align: right;\n",
       "    }\n",
       "</style>\n",
       "<table border=\"1\" class=\"dataframe\">\n",
       "  <thead>\n",
       "    <tr style=\"text-align: right;\">\n",
       "      <th></th>\n",
       "      <th>num_accts</th>\n",
       "    </tr>\n",
       "    <tr>\n",
       "      <th>age_category</th>\n",
       "      <th></th>\n",
       "    </tr>\n",
       "  </thead>\n",
       "  <tbody>\n",
       "    <tr>\n",
       "      <th>Adult</th>\n",
       "      <td>2.268255</td>\n",
       "    </tr>\n",
       "    <tr>\n",
       "      <th>Middle-age</th>\n",
       "      <td>2.259941</td>\n",
       "    </tr>\n",
       "    <tr>\n",
       "      <th>Senior</th>\n",
       "      <td>2.238992</td>\n",
       "    </tr>\n",
       "    <tr>\n",
       "      <th>Elderly</th>\n",
       "      <td>2.236389</td>\n",
       "    </tr>\n",
       "    <tr>\n",
       "      <th>Kid/Teenager</th>\n",
       "      <td>2.229167</td>\n",
       "    </tr>\n",
       "    <tr>\n",
       "      <th>Young adult</th>\n",
       "      <td>2.227403</td>\n",
       "    </tr>\n",
       "  </tbody>\n",
       "</table>\n",
       "</div>"
      ],
      "text/plain": [
       "              num_accts\n",
       "age_category           \n",
       "Adult          2.268255\n",
       "Middle-age     2.259941\n",
       "Senior         2.238992\n",
       "Elderly        2.236389\n",
       "Kid/Teenager   2.229167\n",
       "Young adult    2.227403"
      ]
     },
     "execution_count": 61,
     "metadata": {},
     "output_type": "execute_result"
    }
   ],
   "source": [
    "df_age_acc = df_demo.groupby(\"age_category\")[[\"num_accts\"]].mean().sort_values(by = \"num_accts\", ascending=False)\n",
    "df_age_acc"
   ]
  },
  {
   "cell_type": "code",
   "execution_count": 62,
   "id": "54efc8a7-37d7-4368-b508-93d035f111c0",
   "metadata": {},
   "outputs": [
    {
     "data": {
      "text/html": [
       "<div>\n",
       "<style scoped>\n",
       "    .dataframe tbody tr th:only-of-type {\n",
       "        vertical-align: middle;\n",
       "    }\n",
       "\n",
       "    .dataframe tbody tr th {\n",
       "        vertical-align: top;\n",
       "    }\n",
       "\n",
       "    .dataframe thead th {\n",
       "        text-align: right;\n",
       "    }\n",
       "</style>\n",
       "<table border=\"1\" class=\"dataframe\">\n",
       "  <thead>\n",
       "    <tr style=\"text-align: right;\">\n",
       "      <th></th>\n",
       "      <th>clnt_tenure_yr</th>\n",
       "      <th>clnt_tenure_mnth</th>\n",
       "    </tr>\n",
       "    <tr>\n",
       "      <th>age_category</th>\n",
       "      <th></th>\n",
       "      <th></th>\n",
       "    </tr>\n",
       "  </thead>\n",
       "  <tbody>\n",
       "    <tr>\n",
       "      <th>Elderly</th>\n",
       "      <td>17.3</td>\n",
       "      <td>213.3</td>\n",
       "    </tr>\n",
       "    <tr>\n",
       "      <th>Senior</th>\n",
       "      <td>14.0</td>\n",
       "      <td>173.8</td>\n",
       "    </tr>\n",
       "    <tr>\n",
       "      <th>Middle-age</th>\n",
       "      <td>12.4</td>\n",
       "      <td>155.1</td>\n",
       "    </tr>\n",
       "    <tr>\n",
       "      <th>Adult</th>\n",
       "      <td>9.3</td>\n",
       "      <td>118.1</td>\n",
       "    </tr>\n",
       "    <tr>\n",
       "      <th>Young adult</th>\n",
       "      <td>9.0</td>\n",
       "      <td>113.9</td>\n",
       "    </tr>\n",
       "    <tr>\n",
       "      <th>Kid/Teenager</th>\n",
       "      <td>8.1</td>\n",
       "      <td>103.8</td>\n",
       "    </tr>\n",
       "  </tbody>\n",
       "</table>\n",
       "</div>"
      ],
      "text/plain": [
       "              clnt_tenure_yr  clnt_tenure_mnth\n",
       "age_category                                  \n",
       "Elderly                 17.3             213.3\n",
       "Senior                  14.0             173.8\n",
       "Middle-age              12.4             155.1\n",
       "Adult                    9.3             118.1\n",
       "Young adult              9.0             113.9\n",
       "Kid/Teenager             8.1             103.8"
      ]
     },
     "execution_count": 62,
     "metadata": {},
     "output_type": "execute_result"
    }
   ],
   "source": [
    "df_age_yr_mnth = df_demo.groupby(\"age_category\").agg({\"clnt_tenure_yr\":\"mean\", \"clnt_tenure_mnth\":\"mean\"}).round(1).sort_values(by = \"clnt_tenure_yr\", ascending=False)\n",
    "df_age_yr_mnth"
   ]
  },
  {
   "cell_type": "code",
   "execution_count": 71,
   "id": "2a175e14-840a-4083-a63c-890dd94250d9",
   "metadata": {},
   "outputs": [
    {
     "data": {
      "text/plain": [
       "Text(0.5, 0, 'Tenure Years')"
      ]
     },
     "execution_count": 71,
     "metadata": {},
     "output_type": "execute_result"
    },
    {
     "data": {
      "image/png": "[encoded data removed]",
      "text/plain": [
       "<Figure size 300x300 with 1 Axes>"
      ]
     },
     "metadata": {},
     "output_type": "display_data"
    }
   ],
   "source": [
    "plt.figure(figsize=(3,3))\n",
    "sns.barplot(data = df_age_yr_mnth, x = \"clnt_tenure_yr\",y = \"age_category\", hue = \"age_category\", \n",
    "            palette = palette_deep, order = [\"Elderly\", \"Senior\", \"Middle-age\", \"Adult\", \"Young adult\", \"Kid/Teenager\"])\n",
    "plt.ylabel(\"Age Category\")\n",
    "plt.xlabel(\"Tenure Years\")\n"
   ]
  },
  {
   "cell_type": "code",
   "execution_count": 184,
   "id": "e64b944a-29ab-4481-863d-ab53069448ff",
   "metadata": {},
   "outputs": [
    {
     "data": {
      "text/html": [
       "<div>\n",
       "<style scoped>\n",
       "    .dataframe tbody tr th:only-of-type {\n",
       "        vertical-align: middle;\n",
       "    }\n",
       "\n",
       "    .dataframe tbody tr th {\n",
       "        vertical-align: top;\n",
       "    }\n",
       "\n",
       "    .dataframe thead th {\n",
       "        text-align: right;\n",
       "    }\n",
       "</style>\n",
       "<table border=\"1\" class=\"dataframe\">\n",
       "  <thead>\n",
       "    <tr style=\"text-align: right;\">\n",
       "      <th>logons_6_mnth</th>\n",
       "      <th>1.0</th>\n",
       "      <th>2.0</th>\n",
       "      <th>3.0</th>\n",
       "      <th>4.0</th>\n",
       "      <th>5.0</th>\n",
       "      <th>6.0</th>\n",
       "      <th>7.0</th>\n",
       "      <th>8.0</th>\n",
       "      <th>9.0</th>\n",
       "    </tr>\n",
       "    <tr>\n",
       "      <th>age_category</th>\n",
       "      <th></th>\n",
       "      <th></th>\n",
       "      <th></th>\n",
       "      <th></th>\n",
       "      <th></th>\n",
       "      <th></th>\n",
       "      <th></th>\n",
       "      <th></th>\n",
       "      <th></th>\n",
       "    </tr>\n",
       "  </thead>\n",
       "  <tbody>\n",
       "    <tr>\n",
       "      <th>Adult</th>\n",
       "      <td>881</td>\n",
       "      <td>903</td>\n",
       "      <td>2781</td>\n",
       "      <td>2779</td>\n",
       "      <td>2398</td>\n",
       "      <td>1979</td>\n",
       "      <td>2714</td>\n",
       "      <td>1165</td>\n",
       "      <td>3669</td>\n",
       "    </tr>\n",
       "    <tr>\n",
       "      <th>Elderly</th>\n",
       "      <td>24</td>\n",
       "      <td>30</td>\n",
       "      <td>146</td>\n",
       "      <td>184</td>\n",
       "      <td>193</td>\n",
       "      <td>181</td>\n",
       "      <td>215</td>\n",
       "      <td>131</td>\n",
       "      <td>347</td>\n",
       "    </tr>\n",
       "    <tr>\n",
       "      <th>Kid/Teenager</th>\n",
       "      <td>11</td>\n",
       "      <td>10</td>\n",
       "      <td>7</td>\n",
       "      <td>4</td>\n",
       "      <td>4</td>\n",
       "      <td>8</td>\n",
       "      <td>4</td>\n",
       "      <td>0</td>\n",
       "      <td>0</td>\n",
       "    </tr>\n",
       "    <tr>\n",
       "      <th>Middle-age</th>\n",
       "      <td>1243</td>\n",
       "      <td>1201</td>\n",
       "      <td>4238</td>\n",
       "      <td>4014</td>\n",
       "      <td>3357</td>\n",
       "      <td>2748</td>\n",
       "      <td>3287</td>\n",
       "      <td>1656</td>\n",
       "      <td>3831</td>\n",
       "    </tr>\n",
       "    <tr>\n",
       "      <th>Senior</th>\n",
       "      <td>565</td>\n",
       "      <td>621</td>\n",
       "      <td>2525</td>\n",
       "      <td>2675</td>\n",
       "      <td>2897</td>\n",
       "      <td>2611</td>\n",
       "      <td>3179</td>\n",
       "      <td>1673</td>\n",
       "      <td>4079</td>\n",
       "    </tr>\n",
       "    <tr>\n",
       "      <th>Young adult</th>\n",
       "      <td>108</td>\n",
       "      <td>139</td>\n",
       "      <td>234</td>\n",
       "      <td>237</td>\n",
       "      <td>183</td>\n",
       "      <td>137</td>\n",
       "      <td>229</td>\n",
       "      <td>41</td>\n",
       "      <td>86</td>\n",
       "    </tr>\n",
       "  </tbody>\n",
       "</table>\n",
       "</div>"
      ],
      "text/plain": [
       "logons_6_mnth   1.0   2.0   3.0   4.0   5.0   6.0   7.0   8.0   9.0\n",
       "age_category                                                       \n",
       "Adult           881   903  2781  2779  2398  1979  2714  1165  3669\n",
       "Elderly          24    30   146   184   193   181   215   131   347\n",
       "Kid/Teenager     11    10     7     4     4     8     4     0     0\n",
       "Middle-age     1243  1201  4238  4014  3357  2748  3287  1656  3831\n",
       "Senior          565   621  2525  2675  2897  2611  3179  1673  4079\n",
       "Young adult     108   139   234   237   183   137   229    41    86"
      ]
     },
     "execution_count": 184,
     "metadata": {},
     "output_type": "execute_result"
    }
   ],
   "source": [
    "crosstab = pd.crosstab(df_demo[\"age_category\"], df_demo[\"logons_6_mnth\"])\n",
    "crosstab"
   ]
  },
  {
   "cell_type": "code",
   "execution_count": 182,
   "id": "d2c7b935-dc45-44ad-b478-7f5177c458f7",
   "metadata": {},
   "outputs": [
    {
     "data": {
      "text/plain": [
       "<Axes: xlabel='logons_6_mnth', ylabel='age_category'>"
      ]
     },
     "execution_count": 182,
     "metadata": {},
     "output_type": "execute_result"
    },
    {
     "data": {
      "image/png": "[encoded data removed]",
      "text/plain": [
       "<Figure size 640x480 with 2 Axes>"
      ]
     },
     "metadata": {},
     "output_type": "display_data"
    }
   ],
   "source": [
    "sns.heatmap(crosstab, annot = True, annot_kws={\"size\": 8}, cmap=\"crest\", fmt=\".1f\")"
   ]
  },
  {
   "cell_type": "markdown",
   "id": "54770c42-76ef-4326-9749-a6deb7ed8555",
   "metadata": {},
   "source": [
    "**3. Typical usage patterns**"
   ]
  },
  {
   "cell_type": "code",
   "execution_count": 80,
   "id": "9e984a84-775f-4084-b7ba-e85567b191c1",
   "metadata": {},
   "outputs": [
    {
     "data": {
      "text/html": [
       "<div>\n",
       "<style scoped>\n",
       "    .dataframe tbody tr th:only-of-type {\n",
       "        vertical-align: middle;\n",
       "    }\n",
       "\n",
       "    .dataframe tbody tr th {\n",
       "        vertical-align: top;\n",
       "    }\n",
       "\n",
       "    .dataframe thead th {\n",
       "        text-align: right;\n",
       "    }\n",
       "</style>\n",
       "<table border=\"1\" class=\"dataframe\">\n",
       "  <thead>\n",
       "    <tr style=\"text-align: right;\">\n",
       "      <th></th>\n",
       "      <th>client_id</th>\n",
       "      <th>visitor_id</th>\n",
       "      <th>visit_id</th>\n",
       "      <th>process_step</th>\n",
       "      <th>date_time</th>\n",
       "    </tr>\n",
       "  </thead>\n",
       "  <tbody>\n",
       "    <tr>\n",
       "      <th>0</th>\n",
       "      <td>9988021</td>\n",
       "      <td>580560515_7732621733</td>\n",
       "      <td>781255054_21935453173_531117</td>\n",
       "      <td>step_3</td>\n",
       "      <td>2017-04-17 15:27:07</td>\n",
       "    </tr>\n",
       "    <tr>\n",
       "      <th>1</th>\n",
       "      <td>9988021</td>\n",
       "      <td>580560515_7732621733</td>\n",
       "      <td>781255054_21935453173_531117</td>\n",
       "      <td>step_2</td>\n",
       "      <td>2017-04-17 15:26:51</td>\n",
       "    </tr>\n",
       "    <tr>\n",
       "      <th>2</th>\n",
       "      <td>9988021</td>\n",
       "      <td>580560515_7732621733</td>\n",
       "      <td>781255054_21935453173_531117</td>\n",
       "      <td>step_3</td>\n",
       "      <td>2017-04-17 15:19:22</td>\n",
       "    </tr>\n",
       "    <tr>\n",
       "      <th>3</th>\n",
       "      <td>9988021</td>\n",
       "      <td>580560515_7732621733</td>\n",
       "      <td>781255054_21935453173_531117</td>\n",
       "      <td>step_2</td>\n",
       "      <td>2017-04-17 15:19:13</td>\n",
       "    </tr>\n",
       "    <tr>\n",
       "      <th>4</th>\n",
       "      <td>9988021</td>\n",
       "      <td>580560515_7732621733</td>\n",
       "      <td>781255054_21935453173_531117</td>\n",
       "      <td>step_3</td>\n",
       "      <td>2017-04-17 15:18:04</td>\n",
       "    </tr>\n",
       "  </tbody>\n",
       "</table>\n",
       "</div>"
      ],
      "text/plain": [
       "   client_id            visitor_id                      visit_id process_step  \\\n",
       "0    9988021  580560515_7732621733  781255054_21935453173_531117       step_3   \n",
       "1    9988021  580560515_7732621733  781255054_21935453173_531117       step_2   \n",
       "2    9988021  580560515_7732621733  781255054_21935453173_531117       step_3   \n",
       "3    9988021  580560515_7732621733  781255054_21935453173_531117       step_2   \n",
       "4    9988021  580560515_7732621733  781255054_21935453173_531117       step_3   \n",
       "\n",
       "             date_time  \n",
       "0  2017-04-17 15:27:07  \n",
       "1  2017-04-17 15:26:51  \n",
       "2  2017-04-17 15:19:22  \n",
       "3  2017-04-17 15:19:13  \n",
       "4  2017-04-17 15:18:04  "
      ]
     },
     "execution_count": 80,
     "metadata": {},
     "output_type": "execute_result"
    }
   ],
   "source": [
    "df_exp.head()"
   ]
  },
  {
   "cell_type": "code",
   "execution_count": 139,
   "id": "36619c9d-ca83-4d3c-ade8-a20a8e481aa6",
   "metadata": {},
   "outputs": [
    {
     "data": {
      "text/html": [
       "<div>\n",
       "<style scoped>\n",
       "    .dataframe tbody tr th:only-of-type {\n",
       "        vertical-align: middle;\n",
       "    }\n",
       "\n",
       "    .dataframe tbody tr th {\n",
       "        vertical-align: top;\n",
       "    }\n",
       "\n",
       "    .dataframe thead th {\n",
       "        text-align: right;\n",
       "    }\n",
       "</style>\n",
       "<table border=\"1\" class=\"dataframe\">\n",
       "  <thead>\n",
       "    <tr style=\"text-align: right;\">\n",
       "      <th></th>\n",
       "      <th>client_id</th>\n",
       "      <th>clnt_tenure_yr</th>\n",
       "      <th>clnt_tenure_mnth</th>\n",
       "      <th>clnt_age</th>\n",
       "      <th>gendr</th>\n",
       "      <th>num_accts</th>\n",
       "      <th>bal</th>\n",
       "      <th>calls_6_mnth</th>\n",
       "      <th>logons_6_mnth</th>\n",
       "      <th>age_category</th>\n",
       "      <th>visitor_id</th>\n",
       "      <th>visit_id</th>\n",
       "      <th>process_step</th>\n",
       "      <th>date_time</th>\n",
       "    </tr>\n",
       "  </thead>\n",
       "  <tbody>\n",
       "    <tr>\n",
       "      <th>0</th>\n",
       "      <td>836976</td>\n",
       "      <td>6.0</td>\n",
       "      <td>73.0</td>\n",
       "      <td>60.5</td>\n",
       "      <td>U</td>\n",
       "      <td>2.0</td>\n",
       "      <td>45105.3</td>\n",
       "      <td>6.0</td>\n",
       "      <td>9.0</td>\n",
       "      <td>Senior</td>\n",
       "      <td>427070339_1413275162</td>\n",
       "      <td>228976764_46825473280_96584</td>\n",
       "      <td>confirm</td>\n",
       "      <td>2017-04-02 11:51:13</td>\n",
       "    </tr>\n",
       "  </tbody>\n",
       "</table>\n",
       "</div>"
      ],
      "text/plain": [
       "   client_id  clnt_tenure_yr  clnt_tenure_mnth  clnt_age gendr  num_accts  \\\n",
       "0     836976             6.0              73.0      60.5     U        2.0   \n",
       "\n",
       "       bal  calls_6_mnth  logons_6_mnth age_category            visitor_id  \\\n",
       "0  45105.3           6.0            9.0       Senior  427070339_1413275162   \n",
       "\n",
       "                      visit_id process_step            date_time  \n",
       "0  228976764_46825473280_96584      confirm  2017-04-02 11:51:13  "
      ]
     },
     "execution_count": 139,
     "metadata": {},
     "output_type": "execute_result"
    }
   ],
   "source": [
    "merge_df = pd.merge(df_demo, df_exp, on = \"client_id\")\n",
    "merge_df.head(1)"
   ]
  },
  {
   "cell_type": "code",
   "execution_count": 92,
   "id": "27775655-3206-4e02-a6dc-236bb7513c7d",
   "metadata": {},
   "outputs": [
    {
     "data": {
      "text/html": [
       "<div>\n",
       "<style scoped>\n",
       "    .dataframe tbody tr th:only-of-type {\n",
       "        vertical-align: middle;\n",
       "    }\n",
       "\n",
       "    .dataframe tbody tr th {\n",
       "        vertical-align: top;\n",
       "    }\n",
       "\n",
       "    .dataframe thead th {\n",
       "        text-align: right;\n",
       "    }\n",
       "</style>\n",
       "<table border=\"1\" class=\"dataframe\">\n",
       "  <thead>\n",
       "    <tr style=\"text-align: right;\">\n",
       "      <th></th>\n",
       "      <th>visit_id</th>\n",
       "    </tr>\n",
       "    <tr>\n",
       "      <th>age_category</th>\n",
       "      <th></th>\n",
       "    </tr>\n",
       "  </thead>\n",
       "  <tbody>\n",
       "    <tr>\n",
       "      <th>Middle-age</th>\n",
       "      <td>158876</td>\n",
       "    </tr>\n",
       "    <tr>\n",
       "      <th>Senior</th>\n",
       "      <td>145335</td>\n",
       "    </tr>\n",
       "    <tr>\n",
       "      <th>Adult</th>\n",
       "      <td>111920</td>\n",
       "    </tr>\n",
       "    <tr>\n",
       "      <th>Elderly</th>\n",
       "      <td>10961</td>\n",
       "    </tr>\n",
       "    <tr>\n",
       "      <th>Young adult</th>\n",
       "      <td>8282</td>\n",
       "    </tr>\n",
       "    <tr>\n",
       "      <th>Kid/Teenager</th>\n",
       "      <td>286</td>\n",
       "    </tr>\n",
       "  </tbody>\n",
       "</table>\n",
       "</div>"
      ],
      "text/plain": [
       "              visit_id\n",
       "age_category          \n",
       "Middle-age      158876\n",
       "Senior          145335\n",
       "Adult           111920\n",
       "Elderly          10961\n",
       "Young adult       8282\n",
       "Kid/Teenager       286"
      ]
     },
     "execution_count": 92,
     "metadata": {},
     "output_type": "execute_result"
    }
   ],
   "source": [
    "age_visits = merge_df.groupby(\"age_category\")[[\"visit_id\"]].count().sort_values(by = \"visit_id\", ascending = False)\n",
    "age_visits"
   ]
  },
  {
   "cell_type": "markdown",
   "id": "128f87a4-26de-4dd6-9611-57dca1ed772d",
   "metadata": {},
   "source": [
    "### Specific time of the day with high engagement?"
   ]
  },
  {
   "cell_type": "code",
   "execution_count": 105,
   "id": "07d625a7-8154-487f-b846-24f1cda9f771",
   "metadata": {},
   "outputs": [
    {
     "name": "stdout",
     "output_type": "stream",
     "text": [
      "<class 'pandas.core.series.Series'>\n",
      "RangeIndex: 449831 entries, 0 to 449830\n",
      "Series name: date_time\n",
      "Non-Null Count   Dtype \n",
      "--------------   ----- \n",
      "449831 non-null  object\n",
      "dtypes: object(1)\n",
      "memory usage: 3.4+ MB\n"
     ]
    }
   ],
   "source": [
    "merge_df[\"date_time\"].info()"
   ]
  },
  {
   "cell_type": "code",
   "execution_count": 141,
   "id": "84f46046-d7e3-4790-ba32-60a712dc5a59",
   "metadata": {},
   "outputs": [],
   "source": [
    "merge_df[\"date_time\"] = pd.to_datetime(merge_df[\"date_time\"])"
   ]
  },
  {
   "cell_type": "code",
   "execution_count": 107,
   "id": "ec1e0de7-d8f5-4379-93e5-d2adf8c4f873",
   "metadata": {},
   "outputs": [],
   "source": [
    "merge_df[\"hour\"] = merge_df[\"date_time\"].dt.hour"
   ]
  },
  {
   "cell_type": "code",
   "execution_count": 108,
   "id": "9f0902f0-039d-4469-b9d1-d4791be45d5f",
   "metadata": {},
   "outputs": [
    {
     "data": {
      "text/plain": [
       "array([11, 10,  9, 19, 14, 13, 16, 12, 20, 21, 22, 18, 15, 23, 17,  6,  5,\n",
       "        7,  0,  8,  4,  3,  1,  2])"
      ]
     },
     "execution_count": 108,
     "metadata": {},
     "output_type": "execute_result"
    }
   ],
   "source": [
    "merge_df[\"hour\"].unique()"
   ]
  },
  {
   "cell_type": "code",
   "execution_count": 110,
   "id": "5d62fc04-c199-4eba-af54-8ea1198497d9",
   "metadata": {},
   "outputs": [],
   "source": [
    "def categ_hour(hour):\n",
    "    if 0 <= hour <= 4:\n",
    "        return \"Night\"\n",
    "    elif 5 <= hour <= 8:\n",
    "        return \"Early morning\"\n",
    "    elif 9 <= hour <= 11:\n",
    "        return \"Morning\"\n",
    "    elif 12 <= hour <= 14:\n",
    "        return \"Lunch-time\"\n",
    "    elif 14 <= hour <= 18:\n",
    "        return \"Afternoon\"\n",
    "    elif 19 <= hour <= 23:\n",
    "        return \"Evening\""
   ]
  },
  {
   "cell_type": "code",
   "execution_count": 111,
   "id": "54aec6ce-1530-4658-b94e-5cfc5eb30e38",
   "metadata": {},
   "outputs": [],
   "source": [
    "merge_df[\"hour\"] = merge_df[\"hour\"].map(categ_hour)"
   ]
  },
  {
   "cell_type": "code",
   "execution_count": 112,
   "id": "3a846702-21e3-4be0-a43a-1f6c4c969219",
   "metadata": {},
   "outputs": [
    {
     "data": {
      "text/plain": [
       "array(['Morning', 'Evening', 'Lunch-time', 'Afternoon', 'Early morning',\n",
       "       'Night'], dtype=object)"
      ]
     },
     "execution_count": 112,
     "metadata": {},
     "output_type": "execute_result"
    }
   ],
   "source": [
    "merge_df[\"hour\"].unique()"
   ]
  },
  {
   "cell_type": "code",
   "execution_count": 136,
   "id": "37e92404-6030-43ad-b6d6-c6521ae37e08",
   "metadata": {},
   "outputs": [],
   "source": [
    "# Filtering the merged df to check at what time of the day clients START the sessions\n",
    "\n",
    "merge_start_visit = merge_df[ merge_df[\"process_step\"] == \"start\"]"
   ]
  },
  {
   "cell_type": "code",
   "execution_count": 137,
   "id": "f9d56a76-c73e-44ea-9456-a89ab82a2b8c",
   "metadata": {},
   "outputs": [
    {
     "data": {
      "text/html": [
       "<div>\n",
       "<style scoped>\n",
       "    .dataframe tbody tr th:only-of-type {\n",
       "        vertical-align: middle;\n",
       "    }\n",
       "\n",
       "    .dataframe tbody tr th {\n",
       "        vertical-align: top;\n",
       "    }\n",
       "\n",
       "    .dataframe thead th {\n",
       "        text-align: right;\n",
       "    }\n",
       "</style>\n",
       "<table border=\"1\" class=\"dataframe\">\n",
       "  <thead>\n",
       "    <tr style=\"text-align: right;\">\n",
       "      <th></th>\n",
       "      <th>visit_id</th>\n",
       "    </tr>\n",
       "    <tr>\n",
       "      <th>hour</th>\n",
       "      <th></th>\n",
       "    </tr>\n",
       "  </thead>\n",
       "  <tbody>\n",
       "    <tr>\n",
       "      <th>Morning</th>\n",
       "      <td>33779</td>\n",
       "    </tr>\n",
       "    <tr>\n",
       "      <th>Lunch-time</th>\n",
       "      <td>33457</td>\n",
       "    </tr>\n",
       "    <tr>\n",
       "      <th>Afternoon</th>\n",
       "      <td>32604</td>\n",
       "    </tr>\n",
       "    <tr>\n",
       "      <th>Evening</th>\n",
       "      <td>29960</td>\n",
       "    </tr>\n",
       "    <tr>\n",
       "      <th>Early morning</th>\n",
       "      <td>10226</td>\n",
       "    </tr>\n",
       "    <tr>\n",
       "      <th>Night</th>\n",
       "      <td>5562</td>\n",
       "    </tr>\n",
       "  </tbody>\n",
       "</table>\n",
       "</div>"
      ],
      "text/plain": [
       "               visit_id\n",
       "hour                   \n",
       "Morning           33779\n",
       "Lunch-time        33457\n",
       "Afternoon         32604\n",
       "Evening           29960\n",
       "Early morning     10226\n",
       "Night              5562"
      ]
     },
     "execution_count": 137,
     "metadata": {},
     "output_type": "execute_result"
    }
   ],
   "source": [
    "visits_hour = merge_start_visit.groupby(\"hour\")[[\"visit_id\"]].count().sort_values(by = \"visit_id\", ascending = False)\n",
    "visits_hour"
   ]
  },
  {
   "cell_type": "code",
   "execution_count": 138,
   "id": "7d295a59-4a9d-49bb-9541-f8844409c21a",
   "metadata": {},
   "outputs": [
    {
     "data": {
      "text/plain": [
       "<Axes: xlabel='visit_id', ylabel='hour'>"
      ]
     },
     "execution_count": 138,
     "metadata": {},
     "output_type": "execute_result"
    },
    {
     "data": {
      "image/png": "[encoded data removed]",
      "text/plain": [
       "<Figure size 300x300 with 1 Axes>"
      ]
     },
     "metadata": {},
     "output_type": "display_data"
    }
   ],
   "source": [
    "plt.figure(figsize=(3,3))\n",
    "sns.barplot(data = visits_hour, y = \"hour\", x = \"visit_id\", order = [\"Early morning\", \"Morning\", \"Lunch-time\", \"Afternoon\", \"Evening\", \"Night\"])"
   ]
  },
  {
   "cell_type": "markdown",
   "id": "10b35cd3-d958-44d2-8318-475a7d6cb22e",
   "metadata": {},
   "source": [
    "### Specific day of the week with high engagement?"
   ]
  },
  {
   "cell_type": "code",
   "execution_count": 163,
   "id": "750df991-1099-4ed5-8973-1ef7b28a46f8",
   "metadata": {},
   "outputs": [
    {
     "data": {
      "text/plain": [
       "array([6, 2, 3, 4, 5, 0, 1])"
      ]
     },
     "execution_count": 163,
     "metadata": {},
     "output_type": "execute_result"
    }
   ],
   "source": [
    "merge_start_visit[\"day\"] = merge_start_visit[\"date_time\"].dt.dayofweek\n",
    "merge_start_visit[\"day\"].unique()"
   ]
  },
  {
   "cell_type": "code",
   "execution_count": 159,
   "id": "bc073821-249b-4999-a11d-b0b30d9af716",
   "metadata": {},
   "outputs": [],
   "source": [
    "def week_day(day):\n",
    "    if day == 0:\n",
    "        return \"Monday\"\n",
    "    elif day == 1:\n",
    "        return \"Tuesday\"\n",
    "    elif day == 2:\n",
    "        return \"Wednesday\"\n",
    "    elif day == 3:\n",
    "        return \"Thursday\"\n",
    "    elif day == 4:\n",
    "        return \"Friday\"\n",
    "    elif day == 5:\n",
    "        return \"Saturday\"\n",
    "    elif day == 6:\n",
    "        return \"Sunday\""
   ]
  },
  {
   "cell_type": "code",
   "execution_count": 164,
   "id": "24864cc2-ed3f-4ca8-859e-20b00225e8bc",
   "metadata": {},
   "outputs": [],
   "source": [
    "merge_start_visit[\"day\"] = merge_start_visit[\"day\"].map(week_day)"
   ]
  },
  {
   "cell_type": "code",
   "execution_count": 165,
   "id": "77ae4554-2848-4331-9330-8dff34ccb0c7",
   "metadata": {},
   "outputs": [
    {
     "data": {
      "text/plain": [
       "array(['Sunday', 'Wednesday', 'Thursday', 'Friday', 'Saturday', 'Monday',\n",
       "       'Tuesday'], dtype=object)"
      ]
     },
     "execution_count": 165,
     "metadata": {},
     "output_type": "execute_result"
    }
   ],
   "source": [
    "merge_start_visit[\"day\"].unique()"
   ]
  },
  {
   "cell_type": "code",
   "execution_count": 166,
   "id": "2ca61e7b-5573-4037-a4d6-6f08ee5a7331",
   "metadata": {},
   "outputs": [
    {
     "data": {
      "text/html": [
       "<div>\n",
       "<style scoped>\n",
       "    .dataframe tbody tr th:only-of-type {\n",
       "        vertical-align: middle;\n",
       "    }\n",
       "\n",
       "    .dataframe tbody tr th {\n",
       "        vertical-align: top;\n",
       "    }\n",
       "\n",
       "    .dataframe thead th {\n",
       "        text-align: right;\n",
       "    }\n",
       "</style>\n",
       "<table border=\"1\" class=\"dataframe\">\n",
       "  <thead>\n",
       "    <tr style=\"text-align: right;\">\n",
       "      <th></th>\n",
       "      <th>visit_id</th>\n",
       "    </tr>\n",
       "    <tr>\n",
       "      <th>day</th>\n",
       "      <th></th>\n",
       "    </tr>\n",
       "  </thead>\n",
       "  <tbody>\n",
       "    <tr>\n",
       "      <th>Wednesday</th>\n",
       "      <td>43337</td>\n",
       "    </tr>\n",
       "    <tr>\n",
       "      <th>Thursday</th>\n",
       "      <td>22280</td>\n",
       "    </tr>\n",
       "    <tr>\n",
       "      <th>Sunday</th>\n",
       "      <td>17267</td>\n",
       "    </tr>\n",
       "    <tr>\n",
       "      <th>Friday</th>\n",
       "      <td>16945</td>\n",
       "    </tr>\n",
       "    <tr>\n",
       "      <th>Monday</th>\n",
       "      <td>16655</td>\n",
       "    </tr>\n",
       "    <tr>\n",
       "      <th>Tuesday</th>\n",
       "      <td>15091</td>\n",
       "    </tr>\n",
       "    <tr>\n",
       "      <th>Saturday</th>\n",
       "      <td>14013</td>\n",
       "    </tr>\n",
       "  </tbody>\n",
       "</table>\n",
       "</div>"
      ],
      "text/plain": [
       "           visit_id\n",
       "day                \n",
       "Wednesday     43337\n",
       "Thursday      22280\n",
       "Sunday        17267\n",
       "Friday        16945\n",
       "Monday        16655\n",
       "Tuesday       15091\n",
       "Saturday      14013"
      ]
     },
     "execution_count": 166,
     "metadata": {},
     "output_type": "execute_result"
    }
   ],
   "source": [
    "visits_day = merge_start_visit.groupby(\"day\")[[\"visit_id\"]].count().sort_values(by = \"visit_id\", ascending = False)\n",
    "visits_day"
   ]
  },
  {
   "cell_type": "code",
   "execution_count": 170,
   "id": "8bdd0afd-90fe-499e-8772-5a753373e49d",
   "metadata": {},
   "outputs": [
    {
     "data": {
      "text/plain": [
       "<Axes: xlabel='visit_id', ylabel='day'>"
      ]
     },
     "execution_count": 170,
     "metadata": {},
     "output_type": "execute_result"
    },
    {
     "data": {
      "image/png": "[encoded data removed]",
      "text/plain": [
       "<Figure size 300x300 with 1 Axes>"
      ]
     },
     "metadata": {},
     "output_type": "display_data"
    }
   ],
   "source": [
    "plt.figure(figsize=(3,3))\n",
    "sns.barplot(data = visits_day, y = \"day\", x = \"visit_id\", order = [\"Monday\",\"Tuesday\", \"Wednesday\",\"Thursday\", \n",
    "                                                                   \"Friday\", \"Saturday\",\"Sunday\"])"
   ]
  }
 ],
 "metadata": {
  "kernelspec": {
   "display_name": "project2_env",
   "language": "python",
   "name": "project2_env"
  },
  "language_info": {
   "codemirror_mode": {
    "name": "ipython",
    "version": 3
   },
   "file_extension": ".py",
   "mimetype": "text/x-python",
   "name": "python",
   "nbconvert_exporter": "python",
   "pygments_lexer": "ipython3",
   "version": "3.11.5"
  }
 },
 "nbformat": 4,
 "nbformat_minor": 5
}
